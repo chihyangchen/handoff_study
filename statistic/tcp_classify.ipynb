{
 "cells": [
  {
   "cell_type": "code",
   "execution_count": 152,
   "id": "2d540480",
   "metadata": {},
   "outputs": [],
   "source": [
    "import datetime as dt\n",
    "from statistics import mean\n",
    "import sys\n",
    "import os\n",
    "import numpy as np\n",
    "import matplotlib.pyplot as plt\n",
    "import pandas as pd\n",
    "import time\n",
    "from tqdm import tqdm\n",
    "import portion as P\n",
    "length_packet = 362\n",
    "\n",
    "def rtt_plot(df):\n",
    "    l1 = []\n",
    "    l2 = []\n",
    "    for i in tqdm(range(len(df))):\n",
    "        if not np.isnan(df.loc[i, \"tcp.analysis.ack_rtt\"]):\n",
    "            l1.append(df.loc[i, \"frame.time\"])\n",
    "            l2.append(df.loc[i, \"tcp.analysis.ack_rtt\"])\n",
    "    print(\"mean:\", np.mean(l2))\n",
    "    plt.plot(l1, l2)\n",
    "    plt.show()\n",
    "\n",
    "\n",
    "\n",
    "def get_seq_time():\n",
    "    rxdf = pd.read_csv(rx_pcap, sep='@')\n",
    "    rxdf.loc[:, \"frame.time\"] = pd.to_datetime(rxdf.loc[:, r\"frame.time\"]).dt.tz_localize(None)\n",
    "    # map seq to time\n",
    "    \n",
    "    rseq_time_list  = []\n",
    "    tseq_time_list  = []\n",
    "\n",
    "    for i in tqdm(range(len(rxdf))):\n",
    "        if rxdf.loc[i, \"tcp.len\"] >= length_packet and rxdf.loc[i, \"ip.src\"] == \"140.112.20.183\":\n",
    "            bias = rxdf.loc[i, \"tcp.payload\"].find(\"0000000062\")\n",
    "            dup_num = (rxdf.loc[i, \"tcp.len\"] -bias) // length_packet\n",
    "            packet_time = rxdf.loc[i, \"frame.time\"]\n",
    "            for j in range(dup_num):\n",
    "                seq = int(rxdf.loc[i, \"tcp.payload\"][bias+32+j*length_packet*2:bias+48+j*length_packet*2], 16)\n",
    "#                 print(seq)\n",
    "                rseq_time_list.append((seq, packet_time))\n",
    "\n",
    "def get_client_ul_seq(txdf):\n",
    "    length_packet = 362\n",
    "    tseq_time_dict = {}\n",
    "    ip_set = set(txdf.loc[:, \"ip.src\"])\n",
    "    ip_set.remove(\"140.112.20.183\")\n",
    "    for i in tqdm(range(len(txdf))):\n",
    "        if txdf.loc[i, \"tcp.len\"] >= length_packet and txdf.loc[i, \"ip.dst\"] == \"140.112.20.183\":\n",
    "            bias = txdf.loc[i, \"tcp.payload\"].find(\"0000018\")\n",
    "            if bias == -1:\n",
    "                continue\n",
    "            dup_num = (txdf.loc[i, \"tcp.len\"] -bias) // length_packet\n",
    "            packet_time = txdf.loc[i, \"frame.time\"]\n",
    "            for j in range(dup_num):\n",
    "                seq = int(txdf.loc[i, \"tcp.payload\"][bias+16+j*length_packet*2:bias+24+j*length_packet*2], 16)\n",
    "                born_time = int(txdf.loc[i, \"tcp.payload\"][bias+j*length_packet*2:bias+16+j*length_packet*2], 16)/1000\n",
    "                born_time = dt.datetime.fromtimestamp(born_time)\n",
    "                delay = (packet_time - born_time).total_seconds()\n",
    "                if delay > 0:\n",
    "                    key = (txdf.loc[i, \"ip.src\"] , txdf.loc[i, \"tcp.srcport\"],)\n",
    "                    if key not in tseq_time_dict:\n",
    "                        tseq_time_dict[key] = []\n",
    "                    tseq_time_dict[key].append((seq, packet_time, delay, txdf.loc[i, \"frame.number\"]))\n",
    "    for key in tseq_time_dict:\n",
    "        tseq_time_dict[key].sort(key = lambda x:x[0])\n",
    "        \n",
    "    return tseq_time_dict\n",
    "\n",
    "def get_server_ul_seq(rxdf):\n",
    "    length_packet = 362\n",
    "    rseq_time_dict = {}\n",
    "    for i in tqdm(range(len(rxdf))):\n",
    "        if rxdf.loc[i, \"tcp.len\"] >= length_packet:\n",
    "            bias = rxdf.loc[i, \"tcp.payload\"].find(\"0000018\")\n",
    "            if bias == -1:\n",
    "                continue\n",
    "            dup_num = (rxdf.loc[i, \"tcp.len\"] -bias) // length_packet\n",
    "            packet_time = rxdf.loc[i, \"frame.time\"]\n",
    "            for j in range(dup_num):\n",
    "                seq = int(rxdf.loc[i, \"tcp.payload\"][bias+16+j*length_packet*2:bias+24+j*length_packet*2], 16)\n",
    "                born_time = int(rxdf.loc[i, \"tcp.payload\"][bias+j*length_packet*2:bias+16+j*length_packet*2], 16)/1000\n",
    "                born_time = dt.datetime.fromtimestamp(born_time)\n",
    "                delay = (packet_time - born_time).total_seconds()\n",
    "                if delay > -10:\n",
    "                    key = (rxdf.loc[i, \"ip.src\"] , rxdf.loc[i, \"tcp.srcport\"],)\n",
    "                    if key not in rseq_time_dict:\n",
    "                        rseq_time_dict[key] = []\n",
    "                    rseq_time_dict[key].append((seq, packet_time, delay, rxdf.loc[i, \"frame.number\"]))\n",
    "    for key in rseq_time_dict:\n",
    "        rseq_time_dict[key].sort(key = lambda x:x[0])\n",
    "        \n",
    "    return rseq_time_dict\n",
    "\n",
    "def get_ret(pcapdf):\n",
    "    # get retransmision time list\n",
    "    time_list = []\n",
    "    for i in range(len(pcapdf)):\n",
    "        if \"Retran\" in pcapdf.loc[i, \"_ws.col.Info\"]:\n",
    "            time_list.append(pcapdf.loc[i, \"frame.time\"])\n",
    "    time_list = pd.to_datetime(time_list)\n",
    "    return time_list\n",
    "\n",
    "def get_ul_rtt(pcapdf):\n",
    "    l1 = []\n",
    "    for i in tqdm(range(len(pcapdf))):\n",
    "        if not np.isnan(pcapdf.loc[i, \"tcp.analysis.ack_rtt\"]) and pcapdf.loc[i, \"ip.dst\"] == \"140.112.20.183\":\n",
    "            l1.append((pcapdf.loc[i, \"frame.time\"], pcapdf.loc[i, \"tcp.analysis.ack_rtt\"]))\n",
    "    return np.array(l1)\n",
    "\n",
    "def get_dl_rtt(pcapdf):\n",
    "    l1 = []\n",
    "    for i in tqdm(range(len(pcapdf))):\n",
    "        if not np.isnan(pcapdf.loc[i, \"tcp.analysis.ack_rtt\"]):\n",
    "            l1.append((pcapdf.loc[i, \"frame.time\"], pcapdf.loc[i, \"tcp.analysis.ack_rtt\"]))\n",
    "    return np.array(l1)\n",
    "\n",
    "def latency_impulse(latency_list, t):\n",
    "    return sum(latency_list[:, 0] > t) / len(latency_list)\n",
    "\n",
    "def read_pcapcsv(filename):\n",
    "    df = pd.read_csv(filename, sep='@')\n",
    "    df.loc[:, \"frame.time\"] = pd.to_datetime(df.loc[:, r\"frame.time\"]).dt.tz_localize(None)\n",
    "    return df\n",
    "\n",
    "def UL_latency(rseq_time_list, tseq_time_list):\n",
    "    latency_list = []\n",
    "    i = 0\n",
    "    j = 0\n",
    "    \n",
    "    while i < len(rseq_time_list) and j < len(tseq_time_list):\n",
    "        \n",
    "        if rseq_time_list[i][0] * 100 < tseq_time_list[j][0] or rseq_time_list[i][0] > tseq_time_list[j][0] * 100:\n",
    "            break\n",
    "\n",
    "        if rseq_time_list[i][0] < tseq_time_list[j][0]:\n",
    "            i += 1\n",
    "        elif rseq_time_list[i][0] > tseq_time_list[j][0]:\n",
    "            j += 1\n",
    "        else:\n",
    "#             print(rseq_time_list[i], tseq_time_list[j])\n",
    "            latency_list.append(((rseq_time_list[i][1] - tseq_time_list[j][1]).total_seconds(), tseq_time_list[i][1], rseq_time_list[j][0]))\n",
    "            i += 1\n",
    "            j += 1\n",
    "    latency_list = np.array(latency_list)\n",
    "    latency_list[:, 0] -= latency_list[:, 0].min()\n",
    "#     latency_list[:, 0] += 0.01\n",
    "    plt.title(\"latency\")\n",
    "    plt.ylabel(\"seconds\")\n",
    "    plt.plot(latency_list[:, 1], latency_list[:, 0])\n",
    "    plt.show()\n",
    "    print(len(latency_list))\n",
    "    print(np.mean(latency_list[:, 0]))\n",
    "    return latency_list\n",
    "\n",
    "def mp_latency(l1, l2):\n",
    "    # (latency, time, seq)\n",
    "    \n",
    "    i = 0\n",
    "    j = 0\n",
    "    latency_list = []\n",
    "\n",
    "    \n",
    "    while i < len(l1) and j < len(l2):\n",
    "        \n",
    "        if l1[i][2] * 100 < l2[j][2] or l1[i][2] > l2[j][2] * 100:\n",
    "            break\n",
    "\n",
    "        if l1[i][2] < l2[j][2]:\n",
    "            i += 1\n",
    "        elif l1[i][2] > l2[j][2]:\n",
    "            j += 1\n",
    "        else:\n",
    "            print(l1[i], l2[j])\n",
    "            # latency, time, seq\n",
    "#             print(l1[i][0], l2[j][0], np.min())\n",
    "            latency_list.append((np.min((l1[i][0], l2[j][0])), l2[j][1], l2[j][2]))\n",
    "            i += 1\n",
    "            j += 1\n",
    "    latency_list = np.array(latency_list)\n",
    "#     latency_list[:, 0] -= latency_list[:, 0].min()\n",
    "#     latency_list[:, 0] += 0.01\n",
    "    plt.title(\"latency\")\n",
    "    plt.ylabel(\"seconds\")\n",
    "    plt.plot(latency_list[:, 0], latency_list[:, 2])\n",
    "    plt.show()\n",
    "    print(len(latency_list))\n",
    "    print(np.mean(latency_list[:, 0]))\n",
    "    return latency_list\n",
    "\n"
   ]
  },
  {
   "cell_type": "code",
   "execution_count": 153,
   "id": "21f36ce6",
   "metadata": {},
   "outputs": [
    {
     "name": "stdout",
     "output_type": "stream",
     "text": [
      "column_names= ['before_lte_4G_handover_intervals', 'during_lte_4G_handover_intervals', 'after_lte_4G_handover_intervals', 'before_nr_setup_intervals', 'during_nr_setup_intervals', 'after_nr_setup_intervals', 'before_nr_handover_intervals', 'during_nr_handover_intervals', 'after_nr_handover_intervals', 'before_nr_removal_intervals', 'during_nr_removal_intervals', 'after_nr_removal_intervals', 'before_lte_5G_handover_intervals', 'during_lte_5G_handover_intervals', 'after_lte_5G_handover_intervals', 'before_nr_lte_handover_list_intervals', 'during_nr_lte_handover_list_intervals', 'after_nr_lte_handover_list_intervals', 'before_scg_failure_intervals', 'after_scg_failure_intervals', 'before_reestablish_intervals', 'after_reestablish_intervals', 'nr_time_intervals', 'weak_nr_intervals', 'weak_lte_intervals']\n",
      "['time_before_lte_4G_handover_intervals', 'time_during_lte_4G_handover_intervals', 'time_after_lte_4G_handover_intervals', 'time_before_nr_setup_intervals', 'time_during_nr_setup_intervals', 'time_after_nr_setup_intervals', 'time_before_nr_handover_intervals', 'time_during_nr_handover_intervals', 'time_after_nr_handover_intervals', 'time_before_nr_removal_intervals', 'time_during_nr_removal_intervals', 'time_after_nr_removal_intervals', 'time_before_lte_5G_handover_intervals', 'time_during_lte_5G_handover_intervals', 'time_after_lte_5G_handover_intervals', 'time_before_nr_lte_handover_list_intervals', 'time_during_nr_lte_handover_list_intervals', 'time_after_nr_lte_handover_list_intervals', 'time_before_scg_failure_intervals', 'time_after_scg_failure_intervals', 'time_before_reestablish_intervals', 'time_after_reestablish_intervals', 'time_nr_time_intervals', 'time_weak_nr_intervals', 'time_weak_lte_intervals']\n"
     ]
    }
   ],
   "source": [
    "def mi_event_parsing(miinfofile, nr_time_intervals):\n",
    "\n",
    "    nr_pci = None\n",
    "    \n",
    "    lte_4G_handover_list = []   #4G 狀態下LTE eNB 的 handover\n",
    "    \n",
    "    nr_setup_list = []          #gNB cell addition\n",
    "    nr_handover_list = []       #gNB cell changes (eNB stays the same)\n",
    "    nr_removal_list = []        #gNB cell removal\n",
    "        \n",
    "    lte_5G_handover_list = []   #(eNB1, gNB1) -> (eNB2, gNB1) #gNB stays the same\n",
    "    nr_lte_handover_list = []   #both NR cell and LTE cell have handover\n",
    "    \n",
    "    scg_failure_list = []       #gNB handover failure\n",
    "    reestablish_list = []       #eNB handover failure\n",
    "    \n",
    "    nr_handover = 0\n",
    "    nr_handover_start_index = None\n",
    "    lte_handover = 0\n",
    "    lte_handover_start_index = None\n",
    "    nr_release = 0\n",
    "    nr_release_start_index = None\n",
    "    \n",
    "    handover_num = 0\n",
    "    \n",
    "    #initialization\n",
    "    #----------------------------------------------------------------\n",
    "    if miinfofile.loc[0, \"time\"] in nr_time_intervals:\n",
    "        nr_pci = 1000000            #先設置一個數 dummy nr pci\n",
    "    \n",
    "    for i in range(len(miinfofile)):       \n",
    "        if miinfofile.loc[i, \"nr-rrc.t304\"]:\n",
    "            if nr_handover == 0:    \n",
    "                nr_handover = 1\n",
    "                nr_handover_start_index = i\n",
    "                \n",
    "        if miinfofile.loc[i, \"lte-rrc.t304\"]:\n",
    "            if lte_handover == 0:\n",
    "                lte_handover = 1\n",
    "                lte_handover_start_index = i\n",
    "                \n",
    "        if miinfofile.loc[i, \"nr-Config-r15: release (0)\"]:\n",
    "            if nr_release == 0:\n",
    "                nr_release = 1\n",
    "                nr_release_start_index = i\n",
    "           \n",
    "        if (nr_handover or lte_handover or nr_release) and miinfofile.loc[i, \"rrcConnectionReconfigurationComplete\"]:\n",
    "            handover_num +=1\n",
    "        \n",
    "        \n",
    "        #handover 種類分類\n",
    "        #------------------------------------------------------------------------------\n",
    "        if lte_handover and not nr_handover and miinfofile.loc[i, \"rrcConnectionReconfigurationComplete\"]:  # just lte cell handover event\n",
    "            lte_handover = 0\n",
    "            lte_4G_handover_list.append([miinfofile.loc[lte_handover_start_index, \"time\"], miinfofile.loc[i, \"time\"]])\n",
    "            \n",
    "        if nr_handover and not lte_handover and miinfofile.loc[i, \"rrcConnectionReconfigurationComplete\"]:  # just nr cell handover event\n",
    "            nr_handover = 0\n",
    "            if miinfofile.loc[nr_handover_start_index, \"dualConnectivityPHR: setup (1)\"]:     #This if-else statement classifies whether it is nr addition or nr handover\n",
    "                nr_setup_list.append([miinfofile.loc[nr_handover_start_index, \"time\"], miinfofile.loc[i, \"time\"]])       \n",
    "            else:\n",
    "                nr_handover_list.append([miinfofile.loc[nr_handover_start_index, \"time\"], miinfofile.loc[i, \"time\"]])\n",
    "                \n",
    "            #additional judgement:\n",
    "            #----------------------------\n",
    "            #if miinfofile.loc[nr_handover_start_index, \"dualConnectivityPHR: setup (1)\"] and nr_pci != None:\n",
    "            #    print(\"Warning: dualConnectivityPHR setup may not mean nr cell addition\", mi_file, i)\n",
    "            #if miinfofile.loc[nr_handover_start_index, \"dualConnectivityPHR: setup (1)\"]==0 and not (nr_pci != None and nr_pci != miinfofile.loc[nr_handover_start_index, \"nr_pci\"]): \n",
    "            #    print(\"Warning: nr-rrc.t304 without dualConnectivityPHR setup may not mean nr cell handover\", mi_file, i, nr_handover_start_index, miinfofile.loc[nr_handover_start_index, \"nr_pci\"], nr_pci)\n",
    "                \n",
    "            #nr_pci update lte_handover_start_time\n",
    "            nr_pci = miinfofile.loc[nr_handover_start_index, \"nr_pci\"]\n",
    "            \n",
    "            \n",
    "        if lte_handover and nr_handover and miinfofile.loc[i, \"rrcConnectionReconfigurationComplete\"]:      # both nr cell and lte cell handover event\n",
    "            lte_handover = 0\n",
    "            nr_handover = 0\n",
    "            if nr_pci == miinfofile.loc[lte_handover_start_index, \"nr_pci\"]:\n",
    "                lte_5G_handover_list.append([miinfofile.loc[lte_handover_start_index, \"time\"], miinfofile.loc[i, \"time\"]])\n",
    "            else:\n",
    "                nr_lte_handover_list.append([miinfofile.loc[lte_handover_start_index, \"time\"], miinfofile.loc[i, \"time\"]])\n",
    "            \n",
    "            #nr_pci update\n",
    "            nr_pci = miinfofile.loc[lte_handover_start_index, \"nr_pci\"]\n",
    "            \n",
    "        if nr_release and miinfofile.loc[i, \"rrcConnectionReconfigurationComplete\"]:\n",
    "            nr_pci = None\n",
    "            nr_release=0\n",
    "            nr_removal_list.append([miinfofile.loc[nr_release_start_index, \"time\"], miinfofile.loc[i, \"time\"]])\n",
    "        if miinfofile.loc[i, \"scgFailureInformationNR-r15\"]:\n",
    "            scg_failure_list.append([miinfofile.loc[i, \"time\"], miinfofile.loc[i, \"time\"]])\n",
    "        if miinfofile.loc[i, \"rrcConnectionReestablishmentRequest\"]:\n",
    "            reestablish_list.append([miinfofile.loc[i, \"time\"], miinfofile.loc[i, \"time\"]])\n",
    "            \n",
    "    return [lte_4G_handover_list, nr_setup_list, nr_handover_list, nr_removal_list, lte_5G_handover_list, nr_lte_handover_list, scg_failure_list, reestablish_list], handover_num\n",
    "\n",
    "#This function firstly generates three intervals for each [handover_start, handover_end] in handover_list\n",
    "#   a. before the handover_start event: [handover_start-second, handover_start]\n",
    "#   b. during the handover events: [handover_start, handover_end]\n",
    "#   c. after the handover_end event: [handover_end, handover_end+second]\n",
    "#Then, it returns the overall intervals before/during/after the handover event\n",
    "#--------------------------------------------------------------------\n",
    "def get_before_during_after_intervals(handover_list, second):\n",
    "    before_handover_intervals = P.empty()\n",
    "    handover_intervals = P.empty()\n",
    "    after_handover_intervals = P.empty()\n",
    "    for i in range(len(handover_list)):  \n",
    "        interval = P.closed( handover_list[i][0]-dt.timedelta(seconds=second), handover_list[i][0] )\n",
    "        before_handover_intervals = before_handover_intervals | interval\n",
    "        \n",
    "        interval = P.closed( handover_list[i][0], handover_list[i][1] )\n",
    "        handover_intervals = handover_intervals | interval\n",
    "        \n",
    "        interval = P.closed( handover_list[i][1], handover_list[i][1]+dt.timedelta(seconds=second) )\n",
    "        after_handover_intervals = after_handover_intervals | interval    \n",
    "    return before_handover_intervals, handover_intervals, after_handover_intervals\n",
    "   \n",
    "#This function returns the overall length of the intervals\n",
    "#--------------------------------------------------------------------\n",
    "def get_sum_intervals(intervals):\n",
    "    if intervals.empty:\n",
    "        return 0\n",
    "    sum = 0\n",
    "    for x in intervals:\n",
    "        sum += (x.upper - x.lower)/dt.timedelta(seconds=1)\n",
    "    return sum\n",
    "\n",
    "event_names = [\n",
    "    \"lte_4G_handover\",\n",
    "    \"nr_setup\",\n",
    "    \"nr_handover\",\n",
    "    \"nr_removal\",\n",
    "    \"lte_5G_handover\",\n",
    "    \"nr_lte_handover_list\",\n",
    "    \"scg_failure\",\n",
    "    \"reestablish\"\n",
    "]\n",
    "\n",
    "column_names = []\n",
    "\n",
    "for i in range(len(event_names)-2):\n",
    "    column_names += [\"before_\"+event_names[i]+\"_intervals\", \"during_\"+event_names[i]+\"_intervals\", \"after_\"+event_names[i]+\"_intervals\"]\n",
    "for i in range(len(event_names)-2, len(event_names)):\n",
    "    column_names += [\"before_\"+event_names[i]+\"_intervals\", \"after_\"+event_names[i]+\"_intervals\"]\n",
    "    \n",
    "column_names += [\"nr_time_intervals\", \"weak_nr_intervals\", \"weak_lte_intervals\"]\n",
    "print(\"column_names=\", column_names)\n",
    "\n",
    "column_names_time = [\"time_\"+ c for c in column_names]\n",
    "print(column_names_time)\n",
    "\n"
   ]
  },
  {
   "cell_type": "code",
   "execution_count": 154,
   "id": "6565367a",
   "metadata": {},
   "outputs": [],
   "source": [
    "def analysis_target_dir_dl(dirpath , outputcsvfilename):\n",
    "    outputfilecsv = open(outputcsvfilename, mode='w')\n",
    "    cellinfodir = sorted(os.listdir(os.path.join(dirpath, \"cellinfo\")))\n",
    "    mi2logdir = sorted(os.listdir(os.path.join(dirpath, \"mi2log\")))\n",
    "    # pcapdir = sorted(os.listdir(os.path.join(dirpath, \"pcap\")))\n",
    "    pcapdir = sorted(os.listdir(os.path.join(dirpath, \"server_dl_pcap\")))\n",
    "    assert(len(cellinfodir) == len(mi2logdir) == len(pcapdir) )\n",
    "    for cellinfo, mi2log, pcapcsv in zip(cellinfodir, mi2logdir, pcapdir):\n",
    "        stable_drop = 0\n",
    "        print(cellinfo, mi2log, pcapcsv)\n",
    "        sum_intervals = [0] * len(column_names)\n",
    "        sum_packet_loss = [0] * len(column_names)\n",
    "        sum_stable_intervals = 0\n",
    "        cellinfofile = pd.read_csv(os.path.join(os.path.join(dirpath, \"cellinfo\"), cellinfo))\n",
    "        cellinfofile.loc[:, \"Date\"] = pd.to_datetime(cellinfofile.loc[:, \"Date\"])\n",
    "\n",
    "        miinfofile = pd.read_csv(os.path.join(os.path.join(dirpath, \"mi2log\"), mi2log))\n",
    "        miinfofile.loc[:, \"time\"] = pd.to_datetime(miinfofile.loc[:, \"time\"]) + dt.timedelta(hours=8)\n",
    "\n",
    "        # pcapdf = read_pcapcsv(os.path.join(os.path.join(dirpath, \"pcap\"), pcapcsv))\n",
    "        pcapdf = read_pcapcsv(os.path.join(os.path.join(dirpath, \"server_dl_pcap\"), pcapcsv))\n",
    "        #======================lost time (and latency)=============================\n",
    "        # loss_time, latency = get_loss_latency(pcap)\n",
    "        ret_list = get_ret(pcapdf)\n",
    "\n",
    "        if len(ret_list) == 0:\n",
    "            print(\"no ret\")\n",
    "            continue\n",
    "\n",
    "        #======================before mi event parse, parse NR intervals first=====\n",
    "        nr_time_intervals = P.empty()\n",
    "        if cellinfofile.loc[0, \"NR_SSRSRP\"] != \"-\":\n",
    "            nr_time_intervals = P.singleton(cellinfofile.loc[0, \"Date\"])\n",
    "        for i in range(1, len(cellinfofile)):\n",
    "            if cellinfofile.loc[i, \"NR_SSRSRP\"] != \"-\":\n",
    "                nr_time_intervals = nr_time_intervals | P.openclosed(cellinfofile.loc[i-1, \"Date\"] , cellinfofile.loc[i, \"Date\"])\n",
    "        weak_nr_intervals = P.empty()\n",
    "        if cellinfofile.loc[0, \"NR_SSRSRP\"] != \"-\" and int(cellinfofile.loc[0, \"NR_SSRSRP\"]) <= -90:\n",
    "            weak_nr_intervals = P.singleton(cellinfofile.loc[0, \"Date\"])\n",
    "        for i in range(1, len(cellinfofile)):\n",
    "            if cellinfofile.loc[i, \"NR_SSRSRP\"] != \"-\" and int(cellinfofile.loc[i, \"NR_SSRSRP\"]) <= -90:\n",
    "                weak_nr_intervals = weak_nr_intervals | P.openclosed(cellinfofile.loc[i-1, \"Date\"] , cellinfofile.loc[i, \"Date\"])\n",
    "        weak_lte_intervals = P.empty()\n",
    "        if cellinfofile.loc[0, \"LTE_RSRP\"] != \"-\" and int(cellinfofile.loc[0, \"LTE_RSRP\"]) <= -90:\n",
    "            weak_lte_intervals = P.singleton(cellinfofile.loc[0, \"Date\"])\n",
    "        for i in range(1, len(cellinfofile)):\n",
    "            if cellinfofile.loc[i, \"LTE_RSRP\"] != \"-\" and int(cellinfofile.loc[i, \"LTE_RSRP\"]) <= -90:\n",
    "                weak_lte_intervals = weak_lte_intervals | P.openclosed(cellinfofile.loc[i-1, \"Date\"] , cellinfofile.loc[i, \"Date\"])\n",
    "\n",
    "        #======================mi event parse======================================  \n",
    "        handover_event_lists, handover_num = mi_event_parsing(miinfofile, nr_time_intervals)\n",
    "\n",
    "        #======================making intervals====================================\n",
    "        intervals = []\n",
    "\n",
    "        for handover_event_list in handover_event_lists[:-2]:\n",
    "            before_intervals, during_intervals, after_intervals = get_before_during_after_intervals(handover_event_list, 1)     #抓取前後一秒\n",
    "            intervals += [before_intervals, during_intervals, after_intervals].copy()\n",
    "        for handover_event_list in handover_event_lists[-2:]:\n",
    "            before_intervals, _, after_intervals = get_before_during_after_intervals(handover_event_list, 3)                    #抓取前後三秒\n",
    "            intervals += [before_intervals, after_intervals].copy()    \n",
    "\n",
    "        intervals += [nr_time_intervals, weak_nr_intervals, weak_lte_intervals]\n",
    "        #================================judgement=================================\n",
    "        out = pd.DataFrame(columns = column_names, dtype=object)\n",
    "\n",
    "        #------check time-------\n",
    "        start_time = miinfofile.loc[0, \"time\"]\n",
    "        if cellinfofile.loc[0, \"Date\"] > start_time:\n",
    "            start_time = cellinfofile.loc[0, \"Date\"]\n",
    "        if ret_list[0] > start_time:\n",
    "            start_time = ret_list[0]\n",
    "        end_time = miinfofile.loc[len(miinfofile)-1, \"time\"]\n",
    "        if cellinfofile.loc[len(cellinfofile)-1, \"Date\"] < end_time:\n",
    "            end_time = cellinfofile.loc[len(cellinfofile)-1, \"Date\"]\n",
    "        if ret_list[-1] < end_time:\n",
    "            end_time = ret_list[-1]\n",
    "        ###\n",
    "        for loss_index in range(len(ret_list)):    \n",
    "            stable = True\n",
    "            if ret_list[loss_index] < start_time:\n",
    "                continue\n",
    "            if ret_list[loss_index] > end_time:\n",
    "                continue\n",
    "            \n",
    "            types = [0]*len(intervals)\n",
    "            for i in range(len(intervals)):\n",
    "                if ret_list[loss_index] in intervals[i]:\n",
    "                    types[i] = 1\n",
    "                    stable = False\n",
    "            if stable:\n",
    "                stable_drop += 1\n",
    "            out.loc[loss_index] = types  \n",
    "        #output: number of packet loss, number of packet loss under each type, handover num, overall experiment time, file names \n",
    "        output = [len(out)] + [len(out.loc[ out[column_names[i]]==1 ]) for i in range(len(column_names)-3)] + [handover_num, (end_time-start_time)/dt.timedelta(seconds=1)]\n",
    "\n",
    "        for i in range(len(column_names)):\n",
    "            intervals[i] = intervals[i] & P.closed(start_time, end_time)\n",
    "            sum_intervals[i] += get_sum_intervals(intervals[i])\n",
    "\n",
    "        stable_intervals = P.closed(start_time, end_time)\n",
    "        for i in range(len(column_names)-3):\n",
    "            stable_intervals = stable_intervals - intervals[i]\n",
    "        sum_stable_intervals += get_sum_intervals(stable_intervals)\n",
    "\n",
    "        for i in range(len(column_names)-3):\n",
    "            sum_packet_loss[i] += len(out.loc[ out[column_names[i]]==1 ])\n",
    "\n",
    "        #User can decide whether save the packet loss classification as csv file\n",
    "        out.to_csv(\"all_loss_classify_7.csv\", mode='a')\n",
    "        sum_intervals_list = [sum_intervals[i] for i in range(len(column_names)-3)]\n",
    "        # print(sum_stable_intervals)\n",
    "        # print([sum_intervals[i] for i in range(len(column_names)-3)])\n",
    "        outlist = []\n",
    "        # num of packetloss , num of packetloss under each type, rate(num / time) , #HO, # experiment duration, 3files\n",
    "        outlist = [len(out), stable_drop] + sum_packet_loss[:-3] + [sum_stable_intervals] + sum_intervals_list + [handover_num, (end_time-start_time)/dt.timedelta(seconds=1)] +\\\n",
    "            [cellinfo, mi2log, pcapcsv]\n",
    "        outlist = [str(x) for x in outlist]\n",
    "        outputfilecsv.write(\",\".join(outlist)+'\\n')\n",
    "        print(\"-\"*30)\n",
    "    outputfilecsv.close()"
   ]
  },
  {
   "cell_type": "code",
   "execution_count": 155,
   "id": "7ea2358f",
   "metadata": {},
   "outputs": [],
   "source": [
    "def analysis_target_dir_ul(dirpath , outputcsvfilename):\n",
    "    outputfilecsv = open(outputcsvfilename, mode='w')\n",
    "    cellinfodir = sorted(os.listdir(os.path.join(dirpath, \"cellinfo\")))\n",
    "    mi2logdir = sorted(os.listdir(os.path.join(dirpath, \"mi2log\")))\n",
    "    pcapdir = sorted(os.listdir(os.path.join(dirpath, \"pcap\")))\n",
    "    # pcapdir = sorted(os.listdir(os.path.join(dirpath, \"server_dl_pcap\")))\n",
    "    assert(len(cellinfodir) == len(mi2logdir) == len(pcapdir) )\n",
    "    for cellinfo, mi2log, pcapcsv in zip(cellinfodir, mi2logdir, pcapdir):\n",
    "        stable_drop = 0\n",
    "        print(cellinfo, mi2log, pcapcsv)\n",
    "        sum_intervals = [0] * len(column_names)\n",
    "        sum_packet_loss = [0] * len(column_names)\n",
    "        sum_stable_intervals = 0\n",
    "        cellinfofile = pd.read_csv(os.path.join(os.path.join(dirpath, \"cellinfo\"), cellinfo))\n",
    "        cellinfofile.loc[:, \"Date\"] = pd.to_datetime(cellinfofile.loc[:, \"Date\"])\n",
    "\n",
    "        miinfofile = pd.read_csv(os.path.join(os.path.join(dirpath, \"mi2log\"), mi2log))\n",
    "        miinfofile.loc[:, \"time\"] = pd.to_datetime(miinfofile.loc[:, \"time\"]) + dt.timedelta(hours=8)\n",
    "\n",
    "        pcapdf = read_pcapcsv(os.path.join(os.path.join(dirpath, \"pcap\"), pcapcsv))\n",
    "        # pcapdf = read_pcapcsv(os.path.join(os.path.join(dirpath, \"server_dl_pcap\"), pcapcsv))\n",
    "        #======================lost time (and latency)=============================\n",
    "        # loss_time, latency = get_loss_latency(pcap)\n",
    "        ret_list = get_ret(pcapdf)\n",
    "\n",
    "        if len(ret_list) == 0:\n",
    "            print(\"no ret\")\n",
    "            continue\n",
    "\n",
    "        #======================before mi event parse, parse NR intervals first=====\n",
    "        nr_time_intervals = P.empty()\n",
    "        if cellinfofile.loc[0, \"NR_SSRSRP\"] != \"-\":\n",
    "            nr_time_intervals = P.singleton(cellinfofile.loc[0, \"Date\"])\n",
    "        for i in range(1, len(cellinfofile)):\n",
    "            if cellinfofile.loc[i, \"NR_SSRSRP\"] != \"-\":\n",
    "                nr_time_intervals = nr_time_intervals | P.openclosed(cellinfofile.loc[i-1, \"Date\"] , cellinfofile.loc[i, \"Date\"])\n",
    "        weak_nr_intervals = P.empty()\n",
    "        if cellinfofile.loc[0, \"NR_SSRSRP\"] != \"-\" and int(cellinfofile.loc[0, \"NR_SSRSRP\"]) <= -90:\n",
    "            weak_nr_intervals = P.singleton(cellinfofile.loc[0, \"Date\"])\n",
    "        for i in range(1, len(cellinfofile)):\n",
    "            if cellinfofile.loc[i, \"NR_SSRSRP\"] != \"-\" and int(cellinfofile.loc[i, \"NR_SSRSRP\"]) <= -90:\n",
    "                weak_nr_intervals = weak_nr_intervals | P.openclosed(cellinfofile.loc[i-1, \"Date\"] , cellinfofile.loc[i, \"Date\"])\n",
    "        weak_lte_intervals = P.empty()\n",
    "        if cellinfofile.loc[0, \"LTE_RSRP\"] != \"-\" and int(cellinfofile.loc[0, \"LTE_RSRP\"]) <= -90:\n",
    "            weak_lte_intervals = P.singleton(cellinfofile.loc[0, \"Date\"])\n",
    "        for i in range(1, len(cellinfofile)):\n",
    "            if cellinfofile.loc[i, \"LTE_RSRP\"] != \"-\" and int(cellinfofile.loc[i, \"LTE_RSRP\"]) <= -90:\n",
    "                weak_lte_intervals = weak_lte_intervals | P.openclosed(cellinfofile.loc[i-1, \"Date\"] , cellinfofile.loc[i, \"Date\"])\n",
    "\n",
    "        #======================mi event parse======================================  \n",
    "        handover_event_lists, handover_num = mi_event_parsing(miinfofile, nr_time_intervals)\n",
    "\n",
    "        #======================making intervals====================================\n",
    "        intervals = []\n",
    "\n",
    "        for handover_event_list in handover_event_lists[:-2]:\n",
    "            before_intervals, during_intervals, after_intervals = get_before_during_after_intervals(handover_event_list, 1)     #抓取前後一秒\n",
    "            intervals += [before_intervals, during_intervals, after_intervals].copy()\n",
    "        for handover_event_list in handover_event_lists[-2:]:\n",
    "            before_intervals, _, after_intervals = get_before_during_after_intervals(handover_event_list, 3)                    #抓取前後三秒\n",
    "            intervals += [before_intervals, after_intervals].copy()    \n",
    "\n",
    "        intervals += [nr_time_intervals, weak_nr_intervals, weak_lte_intervals]\n",
    "        #================================judgement=================================\n",
    "        out = pd.DataFrame(columns = column_names, dtype=object)\n",
    "\n",
    "        #------check time-------\n",
    "        start_time = miinfofile.loc[0, \"time\"]\n",
    "        if cellinfofile.loc[0, \"Date\"] > start_time:\n",
    "            start_time = cellinfofile.loc[0, \"Date\"]\n",
    "        if ret_list[0] > start_time:\n",
    "            start_time = ret_list[0]\n",
    "        end_time = miinfofile.loc[len(miinfofile)-1, \"time\"]\n",
    "        if cellinfofile.loc[len(cellinfofile)-1, \"Date\"] < end_time:\n",
    "            end_time = cellinfofile.loc[len(cellinfofile)-1, \"Date\"]\n",
    "        if ret_list[-1] < end_time:\n",
    "            end_time = ret_list[-1]\n",
    "        ###\n",
    "        for loss_index in range(len(ret_list)):    \n",
    "            stable = True\n",
    "            if ret_list[loss_index] < start_time:\n",
    "                continue\n",
    "            if ret_list[loss_index] > end_time:\n",
    "                continue\n",
    "            \n",
    "            types = [0]*len(intervals)\n",
    "            for i in range(len(intervals)):\n",
    "                if ret_list[loss_index] in intervals[i]:\n",
    "                    types[i] = 1\n",
    "                    stable = False\n",
    "            if stable:\n",
    "                stable_drop += 1\n",
    "            out.loc[loss_index] = types  \n",
    "        #output: number of packet loss, number of packet loss under each type, handover num, overall experiment time, file names \n",
    "        output = [len(out)] + [len(out.loc[ out[column_names[i]]==1 ]) for i in range(len(column_names)-3)] + [handover_num, (end_time-start_time)/dt.timedelta(seconds=1)]\n",
    "\n",
    "        for i in range(len(column_names)):\n",
    "            intervals[i] = intervals[i] & P.closed(start_time, end_time)\n",
    "            sum_intervals[i] += get_sum_intervals(intervals[i])\n",
    "\n",
    "        stable_intervals = P.closed(start_time, end_time)\n",
    "        for i in range(len(column_names)-3):\n",
    "            stable_intervals = stable_intervals - intervals[i]\n",
    "        sum_stable_intervals += get_sum_intervals(stable_intervals)\n",
    "\n",
    "        for i in range(len(column_names)-3):\n",
    "            sum_packet_loss[i] += len(out.loc[ out[column_names[i]]==1 ])\n",
    "\n",
    "        #User can decide whether save the packet loss classification as csv file\n",
    "        out.to_csv(\"all_loss_classify_7.csv\", mode='a')\n",
    "        sum_intervals_list = [sum_intervals[i] for i in range(len(column_names)-3)]\n",
    "        # print(sum_stable_intervals)\n",
    "        # print([sum_intervals[i] for i in range(len(column_names)-3)])\n",
    "        outlist = []\n",
    "        # num of packetloss , num of packetloss under each type, rate(num / time) , #HO, # experiment duration, 3files\n",
    "        outlist = [len(out), stable_drop] + sum_packet_loss[:-3] + [sum_stable_intervals] + sum_intervals_list + [handover_num, (end_time-start_time)/dt.timedelta(seconds=1)] +\\\n",
    "            [cellinfo, mi2log, pcapcsv]\n",
    "        outlist = [str(x) for x in outlist]\n",
    "        outputfilecsv.write(\",\".join(outlist)+'\\n')\n",
    "        print(\"-\"*30)\n",
    "    outputfilecsv.close()"
   ]
  },
  {
   "cell_type": "code",
   "execution_count": null,
   "id": "5573afc5",
   "metadata": {},
   "outputs": [],
   "source": []
  },
  {
   "cell_type": "code",
   "execution_count": 76,
   "id": "ceb892a4",
   "metadata": {},
   "outputs": [
    {
     "name": "stdout",
     "output_type": "stream",
     "text": [
      "042122080537_new.csv diag_log_20220421_201721_b0e4a15ac89caff782b5f2af1b41b5d2_Xiaomi-M2007J3SY_46697.mi2log.txt_3.csv DL_3239_2022-4-21-20-01-30_pcap.csv\n",
      "------------------------------\n",
      "042122081929_new.csv diag_log_20220421_203616_b0e4a15ac89caff782b5f2af1b41b5d2_Xiaomi-M2007J3SY_46697.mi2log.txt_3.csv DL_3239_2022-4-21-20-12-19_pcap.csv\n",
      "no ret\n",
      "042122084330_new.csv diag_log_20220421_205559_b0e4a15ac89caff782b5f2af1b41b5d2_Xiaomi-M2007J3SY_46697.mi2log.txt_3.csv DL_3239_2022-4-21-20-18-34_pcap.csv\n",
      "------------------------------\n",
      "042122090027_new.csv diag_log_20220421_211228_b0e4a15ac89caff782b5f2af1b41b5d2_Xiaomi-M2007J3SY_46697.mi2log.txt_3.csv DL_3239_2022-4-21-20-41-02_pcap.csv\n",
      "------------------------------\n",
      "042122091753_new.csv diag_log_20220421_212534_b0e4a15ac89caff782b5f2af1b41b5d2_Xiaomi-M2007J3SY_46697.mi2log.txt_3.csv DL_3239_2022-4-21-21-16-53_pcap.csv\n",
      "------------------------------\n",
      "042122093019_new.csv diag_log_20220421_214426_b0e4a15ac89caff782b5f2af1b41b5d2_Xiaomi-M2007J3SY_46697.mi2log.txt_3.csv DL_3239_2022-4-21-21-28-34_pcap.csv\n",
      "------------------------------\n"
     ]
    }
   ],
   "source": [
    "analysis_target_dir_dl('/home/wmnlab/D/xm04/0421' , 'xm04result.csv')"
   ]
  },
  {
   "cell_type": "code",
   "execution_count": 77,
   "id": "ac2db618",
   "metadata": {},
   "outputs": [
    {
     "name": "stdout",
     "output_type": "stream",
     "text": [
      "042122080032_new.csv diag_log_20220421_201714_e90825d9912094c6845605a5069affae_Xiaomi-M2007J3SY_46692.mi2log.txt_3.csv DL_3241_2022-4-21-20-01-30_pcap.csv\n",
      "------------------------------\n",
      "042122081941_new.csv diag_log_20220421_203609_e90825d9912094c6845605a5069affae_Xiaomi-M2007J3SY_46692.mi2log.txt_3.csv DL_3241_2022-4-21-20-18-34_pcap.csv\n",
      "------------------------------\n",
      "042122084310_new.csv diag_log_20220421_205602_e90825d9912094c6845605a5069affae_Xiaomi-M2007J3SY_46692.mi2log.txt_3.csv DL_3241_2022-4-21-20-41-02_pcap.csv\n",
      "------------------------------\n",
      "042122090013_new.csv diag_log_20220421_211230_e90825d9912094c6845605a5069affae_Xiaomi-M2007J3SY_46692.mi2log.txt_3.csv DL_3241_2022-4-21-20-57-10_pcap.csv\n",
      "------------------------------\n",
      "042122091755_new.csv diag_log_20220421_212555_e90825d9912094c6845605a5069affae_Xiaomi-M2007J3SY_46692.mi2log.txt_3.csv DL_3241_2022-4-21-21-16-53_pcap.csv\n",
      "------------------------------\n",
      "042122093026_new.csv diag_log_20220421_214450_e90825d9912094c6845605a5069affae_Xiaomi-M2007J3SY_46692.mi2log.txt_3.csv DL_3241_2022-4-21-21-28-34_pcap.csv\n",
      "------------------------------\n"
     ]
    }
   ],
   "source": [
    "analysis_target_dir('/home/wmnlab/D/xm05/0421' , 'xm05result.csv')"
   ]
  },
  {
   "cell_type": "code",
   "execution_count": 78,
   "id": "85907698",
   "metadata": {},
   "outputs": [
    {
     "name": "stdout",
     "output_type": "stream",
     "text": [
      "042122080025_new.csv diag_log_20220421_201710_cb85f04bd99888b915d5a493b80eb313_Xiaomi-M2007J3SY_46697.mi2log.txt_3.csv DL_3245_2022-4-21-20-10-30_pcap.csv\n",
      "------------------------------\n",
      "042122081939_new.csv diag_log_20220421_203636_cb85f04bd99888b915d5a493b80eb313_Xiaomi-M2007J3SY_46697.mi2log.txt_3.csv DL_3245_2022-4-21-20-12-18_pcap.csv\n",
      "no ret\n",
      "042122084321_new.csv diag_log_20220421_205604_cb85f04bd99888b915d5a493b80eb313_Xiaomi-M2007J3SY_46697.mi2log.txt_3.csv DL_3245_2022-4-21-20-18-34_pcap.csv\n",
      "------------------------------\n",
      "042122090005_new.csv diag_log_20220421_211212_cb85f04bd99888b915d5a493b80eb313_Xiaomi-M2007J3SY_46697.mi2log.txt_3.csv DL_3245_2022-4-21-20-57-10_pcap.csv\n",
      "------------------------------\n",
      "042122091749_new.csv diag_log_20220421_212734_cb85f04bd99888b915d5a493b80eb313_Xiaomi-M2007J3SY_46697.mi2log.txt_3.csv DL_3245_2022-4-21-21-23-23_pcap.csv\n",
      "no ret\n",
      "042122093018_new.csv diag_log_20220421_214438_cb85f04bd99888b915d5a493b80eb313_Xiaomi-M2007J3SY_46697.mi2log.txt_3.csv DL_3245_2022-4-21-21-28-34_pcap.csv\n",
      "------------------------------\n"
     ]
    }
   ],
   "source": [
    "analysis_target_dir('/home/wmnlab/D/xm08/0421' , 'xm08result.csv')"
   ]
  },
  {
   "cell_type": "code",
   "execution_count": 79,
   "id": "c11e6661",
   "metadata": {},
   "outputs": [
    {
     "name": "stdout",
     "output_type": "stream",
     "text": [
      "042122080043_new.csv diag_log_20220421_201659_2d6caace15d954911dc1a16128c9bc7f_Xiaomi-M2007J3SY_46697.mi2log.txt_3.csv DL_3251_2022-4-21-20-01-30_pcap.csv\n",
      "------------------------------\n",
      "042122081938_new.csv diag_log_20220421_203619_2d6caace15d954911dc1a16128c9bc7f_Xiaomi-M2007J3SY_46697.mi2log.txt_3.csv DL_3251_2022-4-21-20-18-34_pcap.csv\n",
      "------------------------------\n",
      "042122084318_new.csv diag_log_20220421_205558_2d6caace15d954911dc1a16128c9bc7f_Xiaomi-M2007J3SY_46697.mi2log.txt_3.csv DL_3251_2022-4-21-20-41-02_pcap.csv\n",
      "------------------------------\n",
      "042122090034_new.csv diag_log_20220421_211222_2d6caace15d954911dc1a16128c9bc7f_Xiaomi-M2007J3SY_46697.mi2log.txt_3.csv DL_3251_2022-4-21-20-57-10_pcap.csv\n",
      "------------------------------\n",
      "042122091752_new.csv diag_log_20220421_212524_2d6caace15d954911dc1a16128c9bc7f_Xiaomi-M2007J3SY_46697.mi2log.txt_3.csv DL_3251_2022-4-21-21-16-53_pcap.csv\n",
      "------------------------------\n",
      "042122093005_new.csv diag_log_20220421_214500_2d6caace15d954911dc1a16128c9bc7f_Xiaomi-M2007J3SY_46697.mi2log.txt_3.csv DL_3251_2022-4-21-21-28-34_pcap.csv\n",
      "------------------------------\n"
     ]
    }
   ],
   "source": [
    "analysis_target_dir('/home/wmnlab/D/xm11/0421' , 'xm11result.csv')"
   ]
  },
  {
   "cell_type": "code",
   "execution_count": 80,
   "id": "194640a6",
   "metadata": {},
   "outputs": [
    {
     "name": "stdout",
     "output_type": "stream",
     "text": [
      "042122080047_new.csv diag_log_20220421_201723_f0f24edebf24444354f19f7306a5f253_Xiaomi-M2007J3SY_46697.mi2log.txt_3.csv DL_3255_2022-4-21-20-04-45_pcap.csv\n",
      "------------------------------\n",
      "042122081928_new.csv diag_log_20220421_203621_f0f24edebf24444354f19f7306a5f253_Xiaomi-M2007J3SY_46697.mi2log.txt_3.csv DL_3255_2022-4-21-20-18-34_pcap.csv\n",
      "------------------------------\n",
      "042122084315_new.csv diag_log_20220421_205601_f0f24edebf24444354f19f7306a5f253_Xiaomi-M2007J3SY_46697.mi2log.txt_3.csv DL_3255_2022-4-21-20-41-02_pcap.csv\n",
      "------------------------------\n",
      "042122090044_new.csv diag_log_20220421_211219_f0f24edebf24444354f19f7306a5f253_Xiaomi-M2007J3SY_46697.mi2log.txt_3.csv DL_3255_2022-4-21-20-57-10_pcap.csv\n",
      "------------------------------\n",
      "042122091750_new.csv diag_log_20220421_212737_f0f24edebf24444354f19f7306a5f253_Xiaomi-M2007J3SY_46697.mi2log.txt_3.csv DL_3255_2022-4-21-21-16-53_pcap.csv\n",
      "------------------------------\n"
     ]
    }
   ],
   "source": [
    "analysis_target_dir('/home/wmnlab/D/xm13/0421' , 'xm13result.csv')"
   ]
  },
  {
   "cell_type": "code",
   "execution_count": 81,
   "id": "eb3276cc",
   "metadata": {},
   "outputs": [
    {
     "name": "stdout",
     "output_type": "stream",
     "text": [
      "042122080017_new.csv diag_log_20220421_201716_b1d46285fe5943f4381a649c8f15d3bd_Xiaomi-M2007J3SY_46697.mi2log.txt_3.csv DL_3257_2022-4-21-20-1-30_pcap.csv\n",
      "------------------------------\n",
      "042122081940_new.csv diag_log_20220421_203636_b1d46285fe5943f4381a649c8f15d3bd_Xiaomi-M2007J3SY_46697.mi2log.txt_3.csv DL_3257_2022-4-21-20-18-34_pcap.csv\n",
      "------------------------------\n",
      "042122084322_new.csv diag_log_20220421_205604_b1d46285fe5943f4381a649c8f15d3bd_Xiaomi-M2007J3SY_46697.mi2log.txt_3.csv DL_3257_2022-4-21-20-41-2_pcap.csv\n",
      "------------------------------\n",
      "042122085955_new.csv diag_log_20220421_211216_b1d46285fe5943f4381a649c8f15d3bd_Xiaomi-M2007J3SY_46697.mi2log.txt_3.csv DL_3257_2022-4-21-20-57-10_pcap.csv\n",
      "------------------------------\n",
      "042122091747_new.csv diag_log_20220421_212524_b1d46285fe5943f4381a649c8f15d3bd_Xiaomi-M2007J3SY_46697.mi2log.txt_3.csv DL_3257_2022-4-21-21-16-53_pcap.csv\n",
      "------------------------------\n",
      "042122093028_new.csv diag_log_20220421_214440_b1d46285fe5943f4381a649c8f15d3bd_Xiaomi-M2007J3SY_46697.mi2log.txt_3.csv DL_3257_2022-4-21-21-28-34_pcap.csv\n",
      "------------------------------\n"
     ]
    }
   ],
   "source": [
    "analysis_target_dir('/home/wmnlab/D/xm14/0421' , 'xm14result.csv')"
   ]
  },
  {
   "cell_type": "code",
   "execution_count": 82,
   "id": "ae21bc44",
   "metadata": {},
   "outputs": [
    {
     "name": "stdout",
     "output_type": "stream",
     "text": [
      "042122080029_new.csv diag_log_20220421_201707_6b318ce3f2c55caa48bb83db829315bf_Xiaomi-M2007J3SY_46697.mi2log.txt_3.csv DL_3259_2022-4-21-20-01-30_pcap.csv\n",
      "------------------------------\n",
      "042122081940_new.csv diag_log_20220421_203540_6b318ce3f2c55caa48bb83db829315bf_Xiaomi-M2007J3SY_46697.mi2log.txt_3.csv DL_3259_2022-4-21-20-18-34_pcap.csv\n",
      "------------------------------\n",
      "042122084313_new.csv diag_log_20220421_205601_6b318ce3f2c55caa48bb83db829315bf_Xiaomi-M2007J3SY_46697.mi2log.txt_3.csv DL_3259_2022-4-21-20-41-02_pcap.csv\n",
      "------------------------------\n",
      "042122090020_new.csv diag_log_20220421_211229_6b318ce3f2c55caa48bb83db829315bf_Xiaomi-M2007J3SY_46697.mi2log.txt_3.csv DL_3259_2022-4-21-20-57-10_pcap.csv\n",
      "------------------------------\n",
      "042122091754_new.csv diag_log_20220421_212518_6b318ce3f2c55caa48bb83db829315bf_Xiaomi-M2007J3SY_46697.mi2log.txt_3.csv DL_3259_2022-4-21-21-16-53_pcap.csv\n",
      "------------------------------\n",
      "042122093020_new.csv diag_log_20220421_214446_6b318ce3f2c55caa48bb83db829315bf_Xiaomi-M2007J3SY_46697.mi2log.txt_3.csv DL_3259_2022-4-21-21-28-34_pcap.csv\n",
      "------------------------------\n"
     ]
    }
   ],
   "source": [
    "analysis_target_dir('/home/wmnlab/D/xm15/0421' , 'xm15result.csv')"
   ]
  },
  {
   "cell_type": "code",
   "execution_count": 83,
   "id": "4939f563",
   "metadata": {},
   "outputs": [
    {
     "name": "stdout",
     "output_type": "stream",
     "text": [
      "042122080040_new.csv diag_log_20220421_201718_34a716204ea399365b40d88700bc417d_Xiaomi-M2007J3SY_46692.mi2log.txt_3.csv DL_3261_2022-4-21-20-01-30_pcap.csv\n",
      "------------------------------\n",
      "042122081943_new.csv diag_log_20220421_203544_34a716204ea399365b40d88700bc417d_Xiaomi-M2007J3SY_46692.mi2log.txt_3.csv DL_3261_2022-4-21-20-18-34_pcap.csv\n",
      "------------------------------\n",
      "042122084322_new.csv diag_log_20220421_205555_34a716204ea399365b40d88700bc417d_Xiaomi-M2007J3SY_46692.mi2log.txt_3.csv DL_3261_2022-4-21-20-41-02_pcap.csv\n",
      "------------------------------\n",
      "042122085940_new.csv diag_log_20220421_211210_34a716204ea399365b40d88700bc417d_Xiaomi-M2007J3SY_46692.mi2log.txt_3.csv DL_3261_2022-4-21-20-57-10_pcap.csv\n",
      "------------------------------\n",
      "042122091747_new.csv diag_log_20220421_212553_34a716204ea399365b40d88700bc417d_Xiaomi-M2007J3SY_46692.mi2log.txt_3.csv DL_3261_2022-4-21-21-16-53_pcap.csv\n",
      "------------------------------\n",
      "042122093027_new.csv diag_log_20220421_214453_34a716204ea399365b40d88700bc417d_Xiaomi-M2007J3SY_46692.mi2log.txt_3.csv DL_3261_2022-4-21-21-28-34_pcap.csv\n",
      "------------------------------\n"
     ]
    }
   ],
   "source": [
    "analysis_target_dir('/home/wmnlab/D/xm16/0421' , 'xm16result.csv')"
   ]
  },
  {
   "cell_type": "code",
   "execution_count": 84,
   "id": "711764ac",
   "metadata": {},
   "outputs": [
    {
     "name": "stdout",
     "output_type": "stream",
     "text": [
      "042122080022_new.csv diag_log_20220421_201704_b49e2a4249eb8bec2bf543f7d8be9422_Xiaomi-M2007J3SY_46697.mi2log.txt_3.csv DL_3263_2022-4-21-20-01-30_pcap.csv\n",
      "------------------------------\n",
      "042122081937_new.csv diag_log_20220421_203557_b49e2a4249eb8bec2bf543f7d8be9422_Xiaomi-M2007J3SY_46697.mi2log.txt_3.csv DL_3263_2022-4-21-20-18-34_pcap.csv\n",
      "------------------------------\n",
      "042122084317_new.csv diag_log_20220421_205601_b49e2a4249eb8bec2bf543f7d8be9422_Xiaomi-M2007J3SY_46697.mi2log.txt_3.csv DL_3263_2022-4-21-20-41-02_pcap.csv\n",
      "------------------------------\n",
      "042122090052_new.csv diag_log_20220421_211212_b49e2a4249eb8bec2bf543f7d8be9422_Xiaomi-M2007J3SY_46697.mi2log.txt_3.csv DL_3263_2022-4-21-20-57-10_pcap.csv\n",
      "------------------------------\n",
      "042122091921_new.csv diag_log_20220421_212521_b49e2a4249eb8bec2bf543f7d8be9422_Xiaomi-M2007J3SY_46697.mi2log.txt_3.csv DL_3263_2022-4-21-21-16-53_pcap.csv\n",
      "------------------------------\n",
      "042122093013_new.csv diag_log_20220421_214458_b49e2a4249eb8bec2bf543f7d8be9422_Xiaomi-M2007J3SY_46697.mi2log.txt_3.csv DL_3263_2022-4-21-21-28-34_pcap.csv\n",
      "------------------------------\n"
     ]
    }
   ],
   "source": [
    "analysis_target_dir('/home/wmnlab/D/xm17/0421' , 'xm17result.csv')"
   ]
  },
  {
   "cell_type": "code",
   "execution_count": 156,
   "id": "1e8e642b",
   "metadata": {},
   "outputs": [],
   "source": [
    "def analysis_rtt_ul(dirpath , outputcsvfilename):\n",
    "    outputfilecsv = open(outputcsvfilename, mode='w')\n",
    "    cellinfodir = sorted(os.listdir(os.path.join(dirpath, \"cellinfo\")))\n",
    "    mi2logdir = sorted(os.listdir(os.path.join(dirpath, \"mi2log\")))\n",
    "    pcapdir = sorted(os.listdir(os.path.join(dirpath, \"pcap\")))\n",
    "    rtt_list_list = []\n",
    "    # pcapdir = sorted(os.listdir(os.path.join(dirpath, \"server_dl_pcap\")))\n",
    "    assert(len(cellinfodir) == len(mi2logdir) == len(pcapdir) )\n",
    "    for cellinfo, mi2log, pcapcsv in zip(cellinfodir, mi2logdir, pcapdir):\n",
    "        pcapdf = read_pcapcsv(os.path.join(os.path.join(dirpath, \"pcap\"), pcapcsv))\n",
    "        rtt_l = get_ul_rtt(pcapdf=pcapdf)\n",
    "        rtt_list_list.append(rtt_l)\n",
    "    return rtt_list_list\n",
    "\n",
    "def analysis_rtt_dl(dirpath , outputcsvfilename):\n",
    "    outputfilecsv = open(outputcsvfilename, mode='w')\n",
    "    cellinfodir = sorted(os.listdir(os.path.join(dirpath, \"cellinfo\")))\n",
    "    mi2logdir = sorted(os.listdir(os.path.join(dirpath, \"mi2log\")))\n",
    "    pcapdir = sorted(os.listdir(os.path.join(dirpath, \"server_dl_pcap\")))\n",
    "    rtt_list_list = []\n",
    "    # pcapdir = sorted(os.listdir(os.path.join(dirpath, \"server_dl_pcap\")))\n",
    "    assert(len(cellinfodir) == len(mi2logdir) == len(pcapdir) )\n",
    "    for cellinfo, mi2log, pcapcsv in zip(cellinfodir, mi2logdir, pcapdir):\n",
    "        pcapdf = read_pcapcsv(os.path.join(os.path.join(dirpath, \"server_dl_pcap\"), pcapcsv))\n",
    "        rtt_l = get_dl_rtt(pcapdf=pcapdf)\n",
    "        if len(rtt_l):\n",
    "            rtt_list_list.append(rtt_l)\n",
    "        else:\n",
    "            print(\"pass\", pcapcsv)\n",
    "    return rtt_list_list"
   ]
  },
  {
   "cell_type": "code",
   "execution_count": 109,
   "id": "ac37a007",
   "metadata": {},
   "outputs": [
    {
     "name": "stderr",
     "output_type": "stream",
     "text": [
      "100%|██████████| 90345/90345 [00:01<00:00, 70157.81it/s]\n",
      "100%|██████████| 113421/113421 [00:01<00:00, 68338.56it/s]\n",
      "100%|██████████| 112939/112939 [00:01<00:00, 68071.06it/s]\n",
      "100%|██████████| 118003/118003 [00:01<00:00, 65169.04it/s]\n",
      "100%|██████████| 98018/98018 [00:01<00:00, 66060.93it/s]\n",
      "100%|██████████| 113282/113282 [00:01<00:00, 66832.14it/s]\n"
     ]
    }
   ],
   "source": [
    "rtt_list_list = analysis_rtt_ul('/home/wmnlab/D/xm17/0421' , 'xm17result.csv')"
   ]
  },
  {
   "cell_type": "code",
   "execution_count": 110,
   "id": "1101c87e",
   "metadata": {},
   "outputs": [
    {
     "name": "stdout",
     "output_type": "stream",
     "text": [
      "0.0022958098529886\n",
      "0.0020992860314391136\n",
      "0.002239537826268137\n",
      "0.0031430371604491175\n",
      "0.002073635519515989\n",
      "0.0026928110724385376\n"
     ]
    }
   ],
   "source": [
    "for i in range(len(rtt_list_list)):\n",
    "    print(np.mean(rtt_list_list[i][:, 1]))"
   ]
  },
  {
   "cell_type": "code",
   "execution_count": null,
   "id": "1de95005",
   "metadata": {},
   "outputs": [],
   "source": [
    "0.0022958098529886,\n",
    "0.0020992860314391136,\n",
    "0.002239537826268137,\n",
    "0.0031430371604491175,\n",
    "0.002073635519515989,\n",
    "0.0026928110724385376"
   ]
  },
  {
   "cell_type": "code",
   "execution_count": 111,
   "metadata": {},
   "outputs": [
    {
     "name": "stderr",
     "output_type": "stream",
     "text": [
      "100%|██████████| 126244/126244 [00:02<00:00, 61179.58it/s]\n",
      "100%|██████████| 127775/127775 [00:01<00:00, 70341.98it/s]\n",
      "100%|██████████| 129560/129560 [00:02<00:00, 62645.21it/s]\n",
      "100%|██████████| 168277/168277 [00:02<00:00, 70362.60it/s]\n",
      "100%|██████████| 130605/130605 [00:01<00:00, 67226.52it/s]\n",
      "100%|██████████| 167834/167834 [00:02<00:00, 66619.63it/s]"
     ]
    },
    {
     "name": "stdout",
     "output_type": "stream",
     "text": [
      "0.0012157592598182722\n",
      "0.0015379145757260999\n",
      "0.0012331780089240851\n",
      "0.001267568938629481\n",
      "0.0016397090033104622\n",
      "0.0012983877106000103\n"
     ]
    },
    {
     "name": "stderr",
     "output_type": "stream",
     "text": [
      "\n"
     ]
    }
   ],
   "source": [
    "rtt_list_list = analysis_rtt_ul('/home/wmnlab/D/xm16/0421' , 'xm17result.csv')\n",
    "for i in range(len(rtt_list_list)):\n",
    "    print(np.mean(rtt_list_list[i][:, 1]))"
   ]
  },
  {
   "cell_type": "code",
   "execution_count": 112,
   "id": "e2fc7280",
   "metadata": {},
   "outputs": [
    {
     "name": "stderr",
     "output_type": "stream",
     "text": [
      "100%|██████████| 93116/93116 [00:01<00:00, 67023.69it/s]\n",
      "100%|██████████| 121248/121248 [00:01<00:00, 61639.48it/s]\n",
      "100%|██████████| 116851/116851 [00:01<00:00, 69672.62it/s]\n",
      "100%|██████████| 122728/122728 [00:02<00:00, 41171.55it/s]\n",
      "100%|██████████| 100530/100530 [00:01<00:00, 70122.23it/s]\n",
      "100%|██████████| 117249/117249 [00:01<00:00, 73938.71it/s]\n"
     ]
    },
    {
     "name": "stdout",
     "output_type": "stream",
     "text": [
      "0.0021803911684084207\n",
      "0.0027819987993997018\n",
      "0.002495996605520324\n",
      "0.0028025237047015115\n",
      "0.002767760988568681\n",
      "0.0019890191303168106\n"
     ]
    }
   ],
   "source": [
    "rtt_list_list = analysis_rtt_ul('/home/wmnlab/D/xm15/0421' , 'xm17result.csv')\n",
    "for i in range(len(rtt_list_list)):\n",
    "    print(np.mean(rtt_list_list[i][:, 1]))"
   ]
  },
  {
   "cell_type": "code",
   "execution_count": null,
   "id": "b7eb35aa",
   "metadata": {},
   "outputs": [],
   "source": []
  },
  {
   "cell_type": "code",
   "execution_count": 113,
   "id": "4d64dede",
   "metadata": {},
   "outputs": [
    {
     "name": "stderr",
     "output_type": "stream",
     "text": [
      "100%|██████████| 92681/92681 [00:01<00:00, 62180.89it/s]\n",
      "100%|██████████| 117473/117473 [00:01<00:00, 75593.02it/s]\n",
      "100%|██████████| 98269/98269 [00:01<00:00, 63910.17it/s]\n",
      "100%|██████████| 119197/119197 [00:02<00:00, 51666.56it/s]\n",
      "100%|██████████| 100183/100183 [00:01<00:00, 62378.35it/s]\n",
      "100%|██████████| 109604/109604 [00:01<00:00, 70144.63it/s]"
     ]
    },
    {
     "name": "stdout",
     "output_type": "stream",
     "text": [
      "0.002187876122888973\n",
      "0.0021344162353877957\n",
      "0.0021620299663729706\n",
      "0.0023347975982685107\n",
      "0.0022324831978095044\n",
      "0.0027749020800851986\n"
     ]
    },
    {
     "name": "stderr",
     "output_type": "stream",
     "text": [
      "\n"
     ]
    }
   ],
   "source": [
    "rtt_list_list = analysis_rtt_ul('/home/wmnlab/D/xm14/0421' , 'xm17result.csv')\n",
    "for i in range(len(rtt_list_list)):\n",
    "    print(np.mean(rtt_list_list[i][:, 1]))"
   ]
  },
  {
   "cell_type": "code",
   "execution_count": 114,
   "id": "0cc491f0",
   "metadata": {},
   "outputs": [
    {
     "name": "stderr",
     "output_type": "stream",
     "text": [
      "100%|██████████| 61199/61199 [00:01<00:00, 45927.27it/s]\n",
      "100%|██████████| 122061/122061 [00:01<00:00, 80711.33it/s]\n",
      "100%|██████████| 104845/104845 [00:01<00:00, 73519.25it/s]\n",
      "100%|██████████| 124104/124104 [00:01<00:00, 80442.79it/s]\n",
      "100%|██████████| 62125/62125 [00:00<00:00, 83316.80it/s]"
     ]
    },
    {
     "name": "stdout",
     "output_type": "stream",
     "text": [
      "0.0020961336477987418\n",
      "0.002143924321799204\n",
      "0.0022632029885503503\n",
      "0.0026924216428826793\n",
      "0.0018676250256130103\n"
     ]
    },
    {
     "name": "stderr",
     "output_type": "stream",
     "text": [
      "\n"
     ]
    }
   ],
   "source": [
    "rtt_list_list = analysis_rtt_ul('/home/wmnlab/D/xm13/0421' , 'xm17result.csv')\n",
    "for i in range(len(rtt_list_list)):\n",
    "    print(np.mean(rtt_list_list[i][:, 1]))"
   ]
  },
  {
   "cell_type": "code",
   "execution_count": 115,
   "id": "127746fa",
   "metadata": {},
   "outputs": [
    {
     "name": "stderr",
     "output_type": "stream",
     "text": [
      "100%|██████████| 73289/73289 [00:00<00:00, 81871.67it/s]\n",
      "100%|██████████| 113204/113204 [00:01<00:00, 76709.68it/s]\n",
      "100%|██████████| 105081/105081 [00:01<00:00, 78287.89it/s]\n",
      "100%|██████████| 115211/115211 [00:01<00:00, 79729.21it/s]\n",
      "100%|██████████| 97308/97308 [00:01<00:00, 79913.91it/s]\n",
      "100%|██████████| 116966/116966 [00:01<00:00, 70602.67it/s]"
     ]
    },
    {
     "name": "stdout",
     "output_type": "stream",
     "text": [
      "0.00225479043820094\n",
      "0.0016916300831616702\n",
      "0.0021349464774006884\n",
      "0.0031604027627207313\n",
      "0.0027815483368421124\n",
      "0.002914714770026565\n"
     ]
    },
    {
     "name": "stderr",
     "output_type": "stream",
     "text": [
      "\n"
     ]
    }
   ],
   "source": [
    "rtt_list_list = analysis_rtt_ul('/home/wmnlab/D/xm11/0421' , 'xm17result.csv')\n",
    "for i in range(len(rtt_list_list)):\n",
    "    print(np.mean(rtt_list_list[i][:, 1]))"
   ]
  },
  {
   "cell_type": "code",
   "execution_count": 117,
   "id": "1f0cff42",
   "metadata": {},
   "outputs": [
    {
     "name": "stderr",
     "output_type": "stream",
     "text": [
      "100%|██████████| 70561/70561 [00:00<00:00, 73771.92it/s]\n",
      "100%|██████████| 121470/121470 [00:01<00:00, 76690.97it/s]\n",
      "100%|██████████| 83837/83837 [00:01<00:00, 72862.70it/s]\n",
      "100%|██████████| 122747/122747 [00:01<00:00, 65398.27it/s]\n",
      "100%|██████████| 56391/56391 [00:00<00:00, 72707.53it/s]\n",
      "100%|██████████| 126016/126016 [00:01<00:00, 72566.87it/s]"
     ]
    },
    {
     "name": "stdout",
     "output_type": "stream",
     "text": [
      "0.002033140126661713\n",
      "0.002672841175097544\n",
      "0.0016216115621424305\n",
      "0.0026640271156431403\n",
      "0.0022612042619912895\n",
      "0.0028272384987113423\n"
     ]
    },
    {
     "name": "stderr",
     "output_type": "stream",
     "text": [
      "\n"
     ]
    }
   ],
   "source": [
    "rtt_list_list = analysis_rtt_ul('/home/wmnlab/D/xm08/0421' , 'xm17result.csv')\n",
    "for i in range(len(rtt_list_list)):\n",
    "    print(np.mean(rtt_list_list[i][:, 1]))"
   ]
  },
  {
   "cell_type": "code",
   "execution_count": 118,
   "id": "f633bffd",
   "metadata": {},
   "outputs": [
    {
     "name": "stderr",
     "output_type": "stream",
     "text": [
      "100%|██████████| 125074/125074 [00:01<00:00, 69812.83it/s]\n",
      "100%|██████████| 164711/164711 [00:02<00:00, 68641.97it/s]\n",
      "100%|██████████| 145453/145453 [00:02<00:00, 63291.58it/s]\n",
      "100%|██████████| 159809/159809 [00:02<00:00, 68330.06it/s]\n",
      "100%|██████████| 130802/130802 [00:01<00:00, 69885.66it/s]\n",
      "100%|██████████| 165445/165445 [00:02<00:00, 65287.24it/s]\n"
     ]
    },
    {
     "name": "stdout",
     "output_type": "stream",
     "text": [
      "0.0012364712769516262\n",
      "0.0012533333333333372\n",
      "0.0012785837268817692\n",
      "0.0014029782577903752\n",
      "0.0013413835887433802\n",
      "0.001208538885926898\n"
     ]
    }
   ],
   "source": [
    "rtt_list_list = analysis_rtt_ul('/home/wmnlab/D/xm05/0421' , 'xm17result.csv')\n",
    "for i in range(len(rtt_list_list)):\n",
    "    print(np.mean(rtt_list_list[i][:, 1]))"
   ]
  },
  {
   "cell_type": "code",
   "execution_count": 119,
   "id": "637768de",
   "metadata": {},
   "outputs": [
    {
     "name": "stderr",
     "output_type": "stream",
     "text": [
      "100%|██████████| 71065/71065 [00:00<00:00, 72390.25it/s]\n",
      "100%|██████████| 120069/120069 [00:01<00:00, 69565.03it/s]\n",
      "100%|██████████| 108931/108931 [00:01<00:00, 73602.60it/s]\n",
      "100%|██████████| 121347/121347 [00:01<00:00, 68208.83it/s]\n",
      "100%|██████████| 100410/100410 [00:01<00:00, 71962.41it/s]\n",
      "100%|██████████| 104194/104194 [00:01<00:00, 78837.99it/s]"
     ]
    },
    {
     "name": "stdout",
     "output_type": "stream",
     "text": [
      "0.0021837319305753776\n",
      "0.0029277394528959373\n",
      "0.0022871454980261142\n",
      "0.0023739150182902034\n",
      "0.0020394662813102184\n",
      "0.004199574023400627\n"
     ]
    },
    {
     "name": "stderr",
     "output_type": "stream",
     "text": [
      "\n"
     ]
    }
   ],
   "source": [
    "rtt_list_list = analysis_rtt_ul('/home/wmnlab/D/xm04/0421' , 'xm17result.csv')\n",
    "for i in range(len(rtt_list_list)):\n",
    "    print(np.mean(rtt_list_list[i][:, 1]))"
   ]
  },
  {
   "cell_type": "code",
   "execution_count": 157,
   "id": "44bf9d59",
   "metadata": {},
   "outputs": [
    {
     "name": "stderr",
     "output_type": "stream",
     "text": [
      "100%|██████████| 42055/42055 [00:00<00:00, 71995.69it/s]\n",
      "100%|██████████| 92/92 [00:00<00:00, 83995.64it/s]\n",
      "100%|██████████| 64041/64041 [00:01<00:00, 59061.90it/s]\n",
      "100%|██████████| 58027/58027 [00:00<00:00, 66490.30it/s]\n",
      "100%|██████████| 57469/57469 [00:00<00:00, 67340.77it/s]\n",
      "100%|██████████| 50307/50307 [00:00<00:00, 60212.67it/s]"
     ]
    },
    {
     "name": "stdout",
     "output_type": "stream",
     "text": [
      "0.04130360746823299\n",
      "0.052163499999999995\n",
      "0.02819942189715392\n",
      "0.027157067408027775\n",
      "0.02780433980091102\n",
      "0.08050255344990546\n"
     ]
    },
    {
     "name": "stderr",
     "output_type": "stream",
     "text": [
      "\n"
     ]
    }
   ],
   "source": [
    "rtt_list_list = analysis_rtt_dl('/home/wmnlab/D/xm04/0421' , 'xm17result.csv')\n",
    "for i in range(len(rtt_list_list)):\n",
    "    print(np.mean(rtt_list_list[i][:, 1]))"
   ]
  },
  {
   "cell_type": "code",
   "execution_count": null,
   "id": "a0ea7edc",
   "metadata": {},
   "outputs": [],
   "source": []
  },
  {
   "cell_type": "code",
   "execution_count": 158,
   "id": "378495a5",
   "metadata": {},
   "outputs": [
    {
     "data": {
      "text/plain": [
       "[array([[Timestamp('2022-04-21 20:04:35.045967'), 0.000116],\n",
       "        [Timestamp('2022-04-21 20:04:35.062133'), 0.016166],\n",
       "        [Timestamp('2022-04-21 20:04:35.081949'), 0.016569],\n",
       "        ...,\n",
       "        [Timestamp('2022-04-21 20:12:18.317179'), 0.872252],\n",
       "        [Timestamp('2022-04-21 20:12:18.387126'), 0.898986],\n",
       "        [Timestamp('2022-04-21 20:12:18.402177'), 0.832063]], dtype=object),\n",
       " array([[Timestamp('2022-04-21 20:12:22.377872'), 0.019857],\n",
       "        [Timestamp('2022-04-21 20:12:22.381037'), 0.022041],\n",
       "        [Timestamp('2022-04-21 20:12:22.381898'), 0.022738],\n",
       "        [Timestamp('2022-04-21 20:12:22.410187'), 0.050286],\n",
       "        [Timestamp('2022-04-21 20:12:22.412036'), 0.051727],\n",
       "        [Timestamp('2022-04-21 20:12:22.412860'), 0.052049],\n",
       "        [Timestamp('2022-04-21 20:12:22.416943'), 0.055997],\n",
       "        [Timestamp('2022-04-21 20:12:22.417557'), 0.05532],\n",
       "        [Timestamp('2022-04-21 20:12:22.422791'), 0.05976],\n",
       "        [Timestamp('2022-04-21 20:12:22.422908'), 0.058962],\n",
       "        [Timestamp('2022-04-21 20:12:22.433898'), 0.069802],\n",
       "        [Timestamp('2022-04-21 20:12:22.434016'), 0.055669],\n",
       "        [Timestamp('2022-04-21 20:12:22.435050'), 0.056474],\n",
       "        [Timestamp('2022-04-21 20:12:22.478934'), 0.099607]], dtype=object),\n",
       " array([[Timestamp('2022-04-21 20:18:44.838094'), 0.000156],\n",
       "        [Timestamp('2022-04-21 20:18:44.859950'), 0.021856],\n",
       "        [Timestamp('2022-04-21 20:18:44.886966'), 0.018811],\n",
       "        ...,\n",
       "        [Timestamp('2022-04-21 20:32:03.041937'), 0.021947],\n",
       "        [Timestamp('2022-04-21 20:32:03.089765'), 0.013456],\n",
       "        [Timestamp('2022-04-21 20:32:03.107329'), 0.017455]], dtype=object),\n",
       " array([[Timestamp('2022-04-21 20:41:14.477412'), 0.000102],\n",
       "        [Timestamp('2022-04-21 20:41:14.500271'), 0.022859],\n",
       "        [Timestamp('2022-04-21 20:41:14.522029'), 0.018304],\n",
       "        ...,\n",
       "        [Timestamp('2022-04-21 20:53:20.797387'), 0.019633],\n",
       "        [Timestamp('2022-04-21 20:53:20.815344'), 0.017881],\n",
       "        [Timestamp('2022-04-21 20:53:20.872340'), 0.019992]], dtype=object),\n",
       " array([[Timestamp('2022-04-21 21:17:05.831647'), 1.5e-05],\n",
       "        [Timestamp('2022-04-21 21:17:05.870461'), 0.038814],\n",
       "        [Timestamp('2022-04-21 21:17:05.936179'), 0.064884],\n",
       "        ...,\n",
       "        [Timestamp('2022-04-21 21:28:18.090859'), 0.027734],\n",
       "        [Timestamp('2022-04-21 21:28:18.115987'), 0.02502],\n",
       "        [Timestamp('2022-04-21 21:28:18.138442'), 0.022366]], dtype=object),\n",
       " array([[Timestamp('2022-04-21 21:29:15.593662'), 0.000126],\n",
       "        [Timestamp('2022-04-21 21:29:15.809098'), 0.000137],\n",
       "        [Timestamp('2022-04-21 21:29:15.830799'), 0.021701],\n",
       "        ...,\n",
       "        [Timestamp('2022-04-21 21:42:42.892260'), 0.219113],\n",
       "        [Timestamp('2022-04-21 21:42:42.962849'), 0.216298],\n",
       "        [Timestamp('2022-04-21 21:42:42.962905'), 0.211664]], dtype=object)]"
      ]
     },
     "execution_count": 158,
     "metadata": {},
     "output_type": "execute_result"
    }
   ],
   "source": [
    "rtt_list_list"
   ]
  },
  {
   "cell_type": "code",
   "execution_count": 159,
   "id": "1369cca0",
   "metadata": {},
   "outputs": [
    {
     "name": "stderr",
     "output_type": "stream",
     "text": [
      "100%|██████████| 68722/68722 [00:01<00:00, 67585.22it/s]\n",
      "100%|██████████| 90041/90041 [00:01<00:00, 59740.47it/s]\n",
      "100%|██████████| 78819/78819 [00:01<00:00, 64326.20it/s]\n",
      "100%|██████████| 88007/88007 [00:02<00:00, 41366.23it/s]\n",
      "100%|██████████| 74430/74430 [00:01<00:00, 57574.67it/s]\n",
      "100%|██████████| 89399/89399 [00:01<00:00, 64826.15it/s]"
     ]
    },
    {
     "name": "stdout",
     "output_type": "stream",
     "text": [
      "0.018802870441517246\n",
      "0.01788516916309755\n",
      "0.01890449898161619\n",
      "0.01797449461933253\n",
      "0.018035767021989037\n",
      "0.018331589684068665\n"
     ]
    },
    {
     "name": "stderr",
     "output_type": "stream",
     "text": [
      "\n"
     ]
    }
   ],
   "source": [
    "rtt_list_list = analysis_rtt_dl('/home/wmnlab/D/xm05/0421' , 'xm17result.csv')\n",
    "for i in range(len(rtt_list_list)):\n",
    "    print(np.mean(rtt_list_list[i][:, 1]))"
   ]
  },
  {
   "cell_type": "code",
   "execution_count": null,
   "id": "f9c00c9c",
   "metadata": {},
   "outputs": [],
   "source": []
  },
  {
   "cell_type": "code",
   "execution_count": 160,
   "id": "bad41964",
   "metadata": {},
   "outputs": [
    {
     "name": "stderr",
     "output_type": "stream",
     "text": [
      "100%|██████████| 39893/39893 [00:00<00:00, 60706.38it/s]\n",
      "100%|██████████| 1/1 [00:00<00:00, 2146.52it/s]\n"
     ]
    },
    {
     "name": "stdout",
     "output_type": "stream",
     "text": [
      "pass DL_3245_2022-4-21-20-12-18_pcap.csv\n"
     ]
    },
    {
     "name": "stderr",
     "output_type": "stream",
     "text": [
      "100%|██████████| 65532/65532 [00:01<00:00, 53030.71it/s]\n",
      "100%|██████████| 66405/66405 [00:00<00:00, 66743.67it/s]\n",
      "100%|██████████| 1/1 [00:00<00:00, 2389.92it/s]\n"
     ]
    },
    {
     "name": "stdout",
     "output_type": "stream",
     "text": [
      "pass DL_3245_2022-4-21-21-23-23_pcap.csv\n"
     ]
    },
    {
     "name": "stderr",
     "output_type": "stream",
     "text": [
      "100%|██████████| 67821/67821 [00:01<00:00, 65938.08it/s]"
     ]
    },
    {
     "name": "stdout",
     "output_type": "stream",
     "text": [
      "0.02984019484766769\n",
      "0.026820595851287838\n",
      "0.028029158794333126\n",
      "0.026159220647577135\n"
     ]
    },
    {
     "name": "stderr",
     "output_type": "stream",
     "text": [
      "\n"
     ]
    }
   ],
   "source": [
    "rtt_list_list = analysis_rtt_dl('/home/wmnlab/D/xm08/0421' , 'xm17result.csv')\n",
    "for i in range(len(rtt_list_list)):\n",
    "    print(np.mean(rtt_list_list[i][:, 1]))"
   ]
  },
  {
   "cell_type": "code",
   "execution_count": null,
   "id": "76478a68",
   "metadata": {},
   "outputs": [],
   "source": []
  },
  {
   "cell_type": "code",
   "execution_count": 161,
   "id": "29e27871",
   "metadata": {},
   "outputs": [
    {
     "ename": "AssertionError",
     "evalue": "",
     "output_type": "error",
     "traceback": [
      "\u001b[0;31m---------------------------------------------------------------------------\u001b[0m",
      "\u001b[0;31mAssertionError\u001b[0m                            Traceback (most recent call last)",
      "\u001b[1;32m/home/wmnlab/handoff_study/statistic/tcp_classify.ipynb Cell 34'\u001b[0m in \u001b[0;36m<cell line: 1>\u001b[0;34m()\u001b[0m\n\u001b[0;32m----> <a href='vscode-notebook-cell:/home/wmnlab/handoff_study/statistic/tcp_classify.ipynb#ch0000057?line=0'>1</a>\u001b[0m rtt_list_list \u001b[39m=\u001b[39m analysis_rtt_dl(\u001b[39m'\u001b[39;49m\u001b[39m/home/wmnlab/D/xm09/0421\u001b[39;49m\u001b[39m'\u001b[39;49m , \u001b[39m'\u001b[39;49m\u001b[39mxm17result.csv\u001b[39;49m\u001b[39m'\u001b[39;49m)\n\u001b[1;32m      <a href='vscode-notebook-cell:/home/wmnlab/handoff_study/statistic/tcp_classify.ipynb#ch0000057?line=1'>2</a>\u001b[0m \u001b[39mfor\u001b[39;00m i \u001b[39min\u001b[39;00m \u001b[39mrange\u001b[39m(\u001b[39mlen\u001b[39m(rtt_list_list)):\n\u001b[1;32m      <a href='vscode-notebook-cell:/home/wmnlab/handoff_study/statistic/tcp_classify.ipynb#ch0000057?line=2'>3</a>\u001b[0m     \u001b[39mprint\u001b[39m(np\u001b[39m.\u001b[39mmean(rtt_list_list[i][:, \u001b[39m1\u001b[39m]))\n",
      "\u001b[1;32m/home/wmnlab/handoff_study/statistic/tcp_classify.ipynb Cell 15'\u001b[0m in \u001b[0;36manalysis_rtt_dl\u001b[0;34m(dirpath, outputcsvfilename)\u001b[0m\n\u001b[1;32m     <a href='vscode-notebook-cell:/home/wmnlab/handoff_study/statistic/tcp_classify.ipynb#ch0000030?line=19'>20</a>\u001b[0m rtt_list_list \u001b[39m=\u001b[39m []\n\u001b[1;32m     <a href='vscode-notebook-cell:/home/wmnlab/handoff_study/statistic/tcp_classify.ipynb#ch0000030?line=20'>21</a>\u001b[0m \u001b[39m# pcapdir = sorted(os.listdir(os.path.join(dirpath, \"server_dl_pcap\")))\u001b[39;00m\n\u001b[0;32m---> <a href='vscode-notebook-cell:/home/wmnlab/handoff_study/statistic/tcp_classify.ipynb#ch0000030?line=21'>22</a>\u001b[0m \u001b[39massert\u001b[39;00m(\u001b[39mlen\u001b[39m(cellinfodir) \u001b[39m==\u001b[39m \u001b[39mlen\u001b[39m(mi2logdir) \u001b[39m==\u001b[39m \u001b[39mlen\u001b[39m(pcapdir) )\n\u001b[1;32m     <a href='vscode-notebook-cell:/home/wmnlab/handoff_study/statistic/tcp_classify.ipynb#ch0000030?line=22'>23</a>\u001b[0m \u001b[39mfor\u001b[39;00m cellinfo, mi2log, pcapcsv \u001b[39min\u001b[39;00m \u001b[39mzip\u001b[39m(cellinfodir, mi2logdir, pcapdir):\n\u001b[1;32m     <a href='vscode-notebook-cell:/home/wmnlab/handoff_study/statistic/tcp_classify.ipynb#ch0000030?line=23'>24</a>\u001b[0m     pcapdf \u001b[39m=\u001b[39m read_pcapcsv(os\u001b[39m.\u001b[39mpath\u001b[39m.\u001b[39mjoin(os\u001b[39m.\u001b[39mpath\u001b[39m.\u001b[39mjoin(dirpath, \u001b[39m\"\u001b[39m\u001b[39mserver_dl_pcap\u001b[39m\u001b[39m\"\u001b[39m), pcapcsv))\n",
      "\u001b[0;31mAssertionError\u001b[0m: "
     ]
    }
   ],
   "source": [
    "rtt_list_list = analysis_rtt_dl('/home/wmnlab/D/xm09/0421' , 'xm17result.csv')\n",
    "for i in range(len(rtt_list_list)):\n",
    "    print(np.mean(rtt_list_list[i][:, 1]))"
   ]
  },
  {
   "cell_type": "code",
   "execution_count": 162,
   "id": "3025f4d8",
   "metadata": {},
   "outputs": [
    {
     "name": "stderr",
     "output_type": "stream",
     "text": [
      "100%|██████████| 43118/43118 [00:00<00:00, 74213.96it/s]\n",
      "100%|██████████| 58256/58256 [00:00<00:00, 66570.67it/s]\n",
      "100%|██████████| 55849/55849 [00:00<00:00, 56921.04it/s]\n",
      "100%|██████████| 63241/63241 [00:00<00:00, 64314.33it/s]\n",
      "100%|██████████| 52395/52395 [00:00<00:00, 62986.80it/s]\n",
      "100%|██████████| 64866/64866 [00:00<00:00, 70169.12it/s]"
     ]
    },
    {
     "name": "stdout",
     "output_type": "stream",
     "text": [
      "0.030838224776500604\n",
      "0.030128250086012345\n",
      "0.02815675741174602\n",
      "0.029050454806715198\n",
      "0.030070997552949032\n",
      "0.02992807474867768\n"
     ]
    },
    {
     "name": "stderr",
     "output_type": "stream",
     "text": [
      "\n"
     ]
    }
   ],
   "source": [
    "rtt_list_list = analysis_rtt_dl('/home/wmnlab/D/xm11/0421' , 'xm17result.csv')\n",
    "for i in range(len(rtt_list_list)):\n",
    "    print(np.mean(rtt_list_list[i][:, 1]))"
   ]
  },
  {
   "cell_type": "code",
   "execution_count": null,
   "id": "c9172c84",
   "metadata": {},
   "outputs": [],
   "source": []
  },
  {
   "cell_type": "code",
   "execution_count": 163,
   "id": "56f28def",
   "metadata": {},
   "outputs": [
    {
     "name": "stderr",
     "output_type": "stream",
     "text": [
      "100%|██████████| 33556/33556 [00:00<00:00, 65560.79it/s]\n",
      "100%|██████████| 65696/65696 [00:01<00:00, 47428.51it/s]\n",
      "100%|██████████| 56327/56327 [00:00<00:00, 67128.86it/s]\n",
      "100%|██████████| 67160/67160 [00:01<00:00, 33920.57it/s]\n",
      "100%|██████████| 43564/43564 [00:00<00:00, 76049.67it/s]\n"
     ]
    },
    {
     "name": "stdout",
     "output_type": "stream",
     "text": [
      "0.033190700670435246\n",
      "0.026930125096163483\n",
      "0.026015097949974756\n",
      "0.026957216266414657\n",
      "0.033989277712952064\n"
     ]
    }
   ],
   "source": [
    "rtt_list_list = analysis_rtt_dl('/home/wmnlab/D/xm13/0421' , 'xm17result.csv')\n",
    "for i in range(len(rtt_list_list)):\n",
    "    print(np.mean(rtt_list_list[i][:, 1]))"
   ]
  },
  {
   "cell_type": "code",
   "execution_count": null,
   "id": "71b07548",
   "metadata": {},
   "outputs": [],
   "source": []
  },
  {
   "cell_type": "code",
   "execution_count": 164,
   "id": "87528bd9",
   "metadata": {},
   "outputs": [
    {
     "name": "stderr",
     "output_type": "stream",
     "text": [
      "100%|██████████| 49280/49280 [00:00<00:00, 56107.10it/s]\n",
      "100%|██████████| 61313/61313 [00:00<00:00, 69584.00it/s]\n",
      "100%|██████████| 52214/52214 [00:00<00:00, 68665.75it/s]\n",
      "100%|██████████| 63052/63052 [00:01<00:00, 58134.17it/s]\n",
      "100%|██████████| 55133/55133 [00:00<00:00, 65887.84it/s]\n",
      "100%|██████████| 59178/59178 [00:00<00:00, 66942.71it/s]\n"
     ]
    },
    {
     "name": "stdout",
     "output_type": "stream",
     "text": [
      "0.02958448993923029\n",
      "0.02775751451273484\n",
      "0.028042349861200144\n",
      "0.027680240342897074\n",
      "0.030070098407682853\n",
      "0.035854374156918244\n"
     ]
    }
   ],
   "source": [
    "rtt_list_list = analysis_rtt_dl('/home/wmnlab/D/xm14/0421' , 'xm17result.csv')\n",
    "for i in range(len(rtt_list_list)):\n",
    "    print(np.mean(rtt_list_list[i][:, 1]))"
   ]
  },
  {
   "cell_type": "code",
   "execution_count": null,
   "id": "305443a2",
   "metadata": {},
   "outputs": [],
   "source": []
  },
  {
   "cell_type": "code",
   "execution_count": null,
   "id": "e38622cd",
   "metadata": {},
   "outputs": [],
   "source": []
  },
  {
   "cell_type": "code",
   "execution_count": 165,
   "id": "7d1be35f",
   "metadata": {},
   "outputs": [
    {
     "name": "stderr",
     "output_type": "stream",
     "text": [
      "100%|██████████| 51534/51534 [00:00<00:00, 69396.12it/s]\n",
      "100%|██████████| 65469/65469 [00:01<00:00, 57814.40it/s]\n",
      "100%|██████████| 65069/65069 [00:00<00:00, 67694.60it/s]\n",
      "100%|██████████| 66560/66560 [00:01<00:00, 65451.85it/s]\n",
      "100%|██████████| 55594/55594 [00:00<00:00, 67480.78it/s]\n",
      "100%|██████████| 64886/64886 [00:01<00:00, 53427.23it/s]"
     ]
    },
    {
     "name": "stdout",
     "output_type": "stream",
     "text": [
      "0.027911638586839548\n",
      "0.02794213433833618\n",
      "0.024507189192914648\n",
      "0.028654384899195993\n",
      "0.03001312217779417\n",
      "0.028943155905939617\n"
     ]
    },
    {
     "name": "stderr",
     "output_type": "stream",
     "text": [
      "\n"
     ]
    }
   ],
   "source": [
    "rtt_list_list = analysis_rtt_dl('/home/wmnlab/D/xm15/0421' , 'xm17result.csv')\n",
    "for i in range(len(rtt_list_list)):\n",
    "    print(np.mean(rtt_list_list[i][:, 1]))"
   ]
  },
  {
   "cell_type": "code",
   "execution_count": null,
   "id": "42493c9c",
   "metadata": {},
   "outputs": [],
   "source": []
  },
  {
   "cell_type": "code",
   "execution_count": 166,
   "id": "7ab79e0f",
   "metadata": {},
   "outputs": [
    {
     "name": "stderr",
     "output_type": "stream",
     "text": [
      "100%|██████████| 69975/69975 [00:01<00:00, 65227.31it/s]\n",
      "100%|██████████| 67929/67929 [00:01<00:00, 66339.85it/s]\n",
      "100%|██████████| 70376/70376 [00:01<00:00, 55619.75it/s]\n",
      "100%|██████████| 90766/90766 [00:01<00:00, 61503.94it/s]\n",
      "100%|██████████| 70724/70724 [00:01<00:00, 61824.41it/s]\n",
      "100%|██████████| 90198/90198 [00:01<00:00, 58218.29it/s]\n"
     ]
    },
    {
     "name": "stdout",
     "output_type": "stream",
     "text": [
      "0.019279587406869043\n",
      "0.04216269352996505\n",
      "0.018798835649725967\n",
      "0.018115480122253835\n",
      "0.01957717697385948\n",
      "0.017373167068771494\n"
     ]
    }
   ],
   "source": [
    "rtt_list_list = analysis_rtt_dl('/home/wmnlab/D/xm16/0421' , 'xm17result.csv')\n",
    "for i in range(len(rtt_list_list)):\n",
    "    print(np.mean(rtt_list_list[i][:, 1]))"
   ]
  },
  {
   "cell_type": "code",
   "execution_count": null,
   "id": "280c8a9f",
   "metadata": {},
   "outputs": [],
   "source": []
  },
  {
   "cell_type": "code",
   "execution_count": 167,
   "id": "c0e98bc9",
   "metadata": {},
   "outputs": [
    {
     "name": "stderr",
     "output_type": "stream",
     "text": [
      "100%|██████████| 48734/48734 [00:00<00:00, 65015.83it/s]\n",
      "100%|██████████| 61845/61845 [00:00<00:00, 62323.18it/s]\n",
      "100%|██████████| 68620/68620 [00:00<00:00, 70300.91it/s]\n",
      "100%|██████████| 61455/61455 [00:00<00:00, 68349.02it/s]\n",
      "100%|██████████| 52990/52990 [00:00<00:00, 53589.99it/s]\n",
      "100%|██████████| 61388/61388 [00:00<00:00, 65556.74it/s]"
     ]
    },
    {
     "name": "stdout",
     "output_type": "stream",
     "text": [
      "0.030366692666266498\n",
      "0.028790416523112042\n",
      "0.026569471313508924\n",
      "0.030344547962109322\n",
      "0.029015460903964337\n",
      "0.030878764722978815\n"
     ]
    },
    {
     "name": "stderr",
     "output_type": "stream",
     "text": [
      "\n"
     ]
    }
   ],
   "source": [
    "rtt_list_list = analysis_rtt_dl('/home/wmnlab/D/xm17/0421' , 'xm17result.csv')\n",
    "for i in range(len(rtt_list_list)):\n",
    "    print(np.mean(rtt_list_list[i][:, 1]))"
   ]
  },
  {
   "cell_type": "code",
   "execution_count": null,
   "id": "fd597a9a",
   "metadata": {},
   "outputs": [
    {
     "data": {
      "text/plain": [
       "[array([], dtype=float64),\n",
       " array([], dtype=float64),\n",
       " array([], dtype=float64),\n",
       " array([], dtype=float64),\n",
       " array([], dtype=float64),\n",
       " array([], dtype=float64)]"
      ]
     },
     "execution_count": 124,
     "metadata": {},
     "output_type": "execute_result"
    }
   ],
   "source": []
  },
  {
   "cell_type": "code",
   "execution_count": null,
   "id": "ccd5b23c",
   "metadata": {},
   "outputs": [],
   "source": []
  },
  {
   "cell_type": "code",
   "execution_count": null,
   "id": "1f76dc85",
   "metadata": {},
   "outputs": [],
   "source": []
  },
  {
   "cell_type": "code",
   "execution_count": null,
   "id": "d7f78bcc",
   "metadata": {},
   "outputs": [],
   "source": []
  },
  {
   "cell_type": "code",
   "execution_count": null,
   "id": "eaf10cf7",
   "metadata": {},
   "outputs": [],
   "source": []
  }
 ],
 "metadata": {
  "kernelspec": {
   "display_name": "Python 3 (ipykernel)",
   "language": "python",
   "name": "python3"
  },
  "language_info": {
   "codemirror_mode": {
    "name": "ipython",
    "version": 3
   },
   "file_extension": ".py",
   "mimetype": "text/x-python",
   "name": "python",
   "nbconvert_exporter": "python",
   "pygments_lexer": "ipython3",
   "version": "3.8.10"
  }
 },
 "nbformat": 4,
 "nbformat_minor": 5
}
