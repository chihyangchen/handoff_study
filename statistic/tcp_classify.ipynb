{
 "cells": [
  {
   "cell_type": "code",
   "execution_count": 67,
   "id": "2d540480",
   "metadata": {},
   "outputs": [],
   "source": [
    "import datetime as dt\n",
    "from statistics import mean\n",
    "import sys\n",
    "import os\n",
    "import numpy as np\n",
    "import matplotlib.pyplot as plt\n",
    "import pandas as pd\n",
    "import time\n",
    "from tqdm import tqdm\n",
    "from joblib import Parallel, delayed\n",
    "import portion as P\n",
    "length_packet = 362\n",
    "\n",
    "def rtt_plot(df):\n",
    "    l1 = []\n",
    "    l2 = []\n",
    "    for i in tqdm(range(len(df))):\n",
    "        if not np.isnan(df.loc[i, \"tcp.analysis.ack_rtt\"]):\n",
    "            l1.append(df.loc[i, \"frame.time\"])\n",
    "            l2.append(df.loc[i, \"tcp.analysis.ack_rtt\"])\n",
    "    print(\"mean:\", np.mean(l2))\n",
    "    plt.plot(l1, l2)\n",
    "    plt.show()\n",
    "\n",
    "\n",
    "\n",
    "def get_seq_time():\n",
    "    rxdf = pd.read_csv(rx_pcap, sep='@')\n",
    "    rxdf.loc[:, \"frame.time\"] = pd.to_datetime(rxdf.loc[:, r\"frame.time\"]).dt.tz_localize(None)\n",
    "    # map seq to time\n",
    "    \n",
    "    rseq_time_list  = []\n",
    "    tseq_time_list  = []\n",
    "\n",
    "    for i in tqdm(range(len(rxdf))):\n",
    "        if rxdf.loc[i, \"tcp.len\"] >= length_packet and rxdf.loc[i, \"ip.src\"] == \"140.112.20.183\":\n",
    "            bias = rxdf.loc[i, \"tcp.payload\"].find(\"0000000062\")\n",
    "            dup_num = (rxdf.loc[i, \"tcp.len\"] -bias) // length_packet\n",
    "            packet_time = rxdf.loc[i, \"frame.time\"]\n",
    "            for j in range(dup_num):\n",
    "                seq = int(rxdf.loc[i, \"tcp.payload\"][bias+32+j*length_packet*2:bias+48+j*length_packet*2], 16)\n",
    "#                 print(seq)\n",
    "                rseq_time_list.append((seq, packet_time))\n",
    "\n",
    "def get_client_ul_seq(txdf):\n",
    "    length_packet = 362\n",
    "    tseq_time_dict = {}\n",
    "    ip_set = set(txdf.loc[:, \"ip.src\"])\n",
    "    ip_set.remove(\"140.112.20.183\")\n",
    "    for i in tqdm(range(len(txdf))):\n",
    "        if txdf.loc[i, \"tcp.len\"] >= length_packet and txdf.loc[i, \"ip.dst\"] == \"140.112.20.183\":\n",
    "            bias = txdf.loc[i, \"tcp.payload\"].find(\"0000018\")\n",
    "            if bias == -1:\n",
    "                continue\n",
    "            dup_num = (txdf.loc[i, \"tcp.len\"] -bias) // length_packet\n",
    "            packet_time = txdf.loc[i, \"frame.time\"]\n",
    "            for j in range(dup_num):\n",
    "                seq = int(txdf.loc[i, \"tcp.payload\"][bias+16+j*length_packet*2:bias+24+j*length_packet*2], 16)\n",
    "                born_time = int(txdf.loc[i, \"tcp.payload\"][bias+j*length_packet*2:bias+16+j*length_packet*2], 16)/1000\n",
    "                born_time = dt.datetime.fromtimestamp(born_time)\n",
    "                delay = (packet_time - born_time).total_seconds()\n",
    "                if delay > 0:\n",
    "                    key = (txdf.loc[i, \"ip.src\"] , txdf.loc[i, \"tcp.srcport\"],)\n",
    "                    if key not in tseq_time_dict:\n",
    "                        tseq_time_dict[key] = []\n",
    "                    tseq_time_dict[key].append((seq, packet_time, delay, txdf.loc[i, \"frame.number\"]))\n",
    "    for key in tseq_time_dict:\n",
    "        tseq_time_dict[key].sort(key = lambda x:x[0])\n",
    "        \n",
    "    return tseq_time_dict\n",
    "\n",
    "def get_server_ul_seq(rxdf):\n",
    "    length_packet = 362\n",
    "    rseq_time_dict = {}\n",
    "    for i in tqdm(range(len(rxdf))):\n",
    "        if rxdf.loc[i, \"tcp.len\"] >= length_packet:\n",
    "            bias = rxdf.loc[i, \"tcp.payload\"].find(\"0000018\")\n",
    "            if bias == -1:\n",
    "                continue\n",
    "            dup_num = (rxdf.loc[i, \"tcp.len\"] -bias) // length_packet\n",
    "            packet_time = rxdf.loc[i, \"frame.time\"]\n",
    "            for j in range(dup_num):\n",
    "                seq = int(rxdf.loc[i, \"tcp.payload\"][bias+16+j*length_packet*2:bias+24+j*length_packet*2], 16)\n",
    "                born_time = int(rxdf.loc[i, \"tcp.payload\"][bias+j*length_packet*2:bias+16+j*length_packet*2], 16)/1000\n",
    "                born_time = dt.datetime.fromtimestamp(born_time)\n",
    "                delay = (packet_time - born_time).total_seconds()\n",
    "                if delay > -10:\n",
    "                    key = (rxdf.loc[i, \"ip.src\"] , rxdf.loc[i, \"tcp.srcport\"],)\n",
    "                    if key not in rseq_time_dict:\n",
    "                        rseq_time_dict[key] = []\n",
    "                    rseq_time_dict[key].append((seq, packet_time, delay, rxdf.loc[i, \"frame.number\"]))\n",
    "    for key in rseq_time_dict:\n",
    "        rseq_time_dict[key].sort(key = lambda x:x[0])\n",
    "        \n",
    "    return rseq_time_dict\n",
    "\n",
    "def get_ret(pcapdf):\n",
    "    # get retransmision time list\n",
    "    time_list = []\n",
    "    for i in range(len(pcapdf)):\n",
    "        if \"Retran\" in pcapdf.loc[i, \"_ws.col.Info\"]:\n",
    "            time_list.append(pcapdf.loc[i, \"frame.time\"])\n",
    "    time_list = pd.to_datetime(time_list)\n",
    "    return time_list\n",
    "\n",
    "\n",
    "def latency_impulse(latency_list, t):\n",
    "    return sum(latency_list[:, 0] > t) / len(latency_list)\n",
    "\n",
    "def read_pcapcsv(filename):\n",
    "    df = pd.read_csv(filename, sep='@')\n",
    "    df.loc[:, \"frame.time\"] = pd.to_datetime(df.loc[:, r\"frame.time\"]).dt.tz_localize(None)\n",
    "    return df\n",
    "\n",
    "def UL_latency(rseq_time_list, tseq_time_list):\n",
    "    latency_list = []\n",
    "    i = 0\n",
    "    j = 0\n",
    "    \n",
    "    while i < len(rseq_time_list) and j < len(tseq_time_list):\n",
    "        \n",
    "        if rseq_time_list[i][0] * 100 < tseq_time_list[j][0] or rseq_time_list[i][0] > tseq_time_list[j][0] * 100:\n",
    "            break\n",
    "\n",
    "        if rseq_time_list[i][0] < tseq_time_list[j][0]:\n",
    "            i += 1\n",
    "        elif rseq_time_list[i][0] > tseq_time_list[j][0]:\n",
    "            j += 1\n",
    "        else:\n",
    "#             print(rseq_time_list[i], tseq_time_list[j])\n",
    "            latency_list.append(((rseq_time_list[i][1] - tseq_time_list[j][1]).total_seconds(), tseq_time_list[i][1], rseq_time_list[j][0]))\n",
    "            i += 1\n",
    "            j += 1\n",
    "    latency_list = np.array(latency_list)\n",
    "    latency_list[:, 0] -= latency_list[:, 0].min()\n",
    "#     latency_list[:, 0] += 0.01\n",
    "    plt.title(\"latency\")\n",
    "    plt.ylabel(\"seconds\")\n",
    "    plt.plot(latency_list[:, 1], latency_list[:, 0])\n",
    "    plt.show()\n",
    "    print(len(latency_list))\n",
    "    print(np.mean(latency_list[:, 0]))\n",
    "    return latency_list\n",
    "\n",
    "def mp_latency(l1, l2):\n",
    "    # (latency, time, seq)\n",
    "    \n",
    "    i = 0\n",
    "    j = 0\n",
    "    latency_list = []\n",
    "\n",
    "    \n",
    "    while i < len(l1) and j < len(l2):\n",
    "        \n",
    "        if l1[i][2] * 100 < l2[j][2] or l1[i][2] > l2[j][2] * 100:\n",
    "            break\n",
    "\n",
    "        if l1[i][2] < l2[j][2]:\n",
    "            i += 1\n",
    "        elif l1[i][2] > l2[j][2]:\n",
    "            j += 1\n",
    "        else:\n",
    "            print(l1[i], l2[j])\n",
    "            # latency, time, seq\n",
    "#             print(l1[i][0], l2[j][0], np.min())\n",
    "            latency_list.append((np.min((l1[i][0], l2[j][0])), l2[j][1], l2[j][2]))\n",
    "            i += 1\n",
    "            j += 1\n",
    "    latency_list = np.array(latency_list)\n",
    "#     latency_list[:, 0] -= latency_list[:, 0].min()\n",
    "#     latency_list[:, 0] += 0.01\n",
    "    plt.title(\"latency\")\n",
    "    plt.ylabel(\"seconds\")\n",
    "    plt.plot(latency_list[:, 0], latency_list[:, 2])\n",
    "    plt.show()\n",
    "    print(len(latency_list))\n",
    "    print(np.mean(latency_list[:, 0]))\n",
    "    return latency_list\n",
    "\n"
   ]
  },
  {
   "cell_type": "code",
   "execution_count": 68,
   "id": "21f36ce6",
   "metadata": {},
   "outputs": [
    {
     "name": "stdout",
     "output_type": "stream",
     "text": [
      "column_names= ['before_lte_4G_handover_intervals', 'during_lte_4G_handover_intervals', 'after_lte_4G_handover_intervals', 'before_nr_setup_intervals', 'during_nr_setup_intervals', 'after_nr_setup_intervals', 'before_nr_handover_intervals', 'during_nr_handover_intervals', 'after_nr_handover_intervals', 'before_nr_removal_intervals', 'during_nr_removal_intervals', 'after_nr_removal_intervals', 'before_lte_5G_handover_intervals', 'during_lte_5G_handover_intervals', 'after_lte_5G_handover_intervals', 'before_nr_lte_handover_list_intervals', 'during_nr_lte_handover_list_intervals', 'after_nr_lte_handover_list_intervals', 'before_scg_failure_intervals', 'after_scg_failure_intervals', 'before_reestablish_intervals', 'after_reestablish_intervals', 'nr_time_intervals', 'weak_nr_intervals', 'weak_lte_intervals']\n"
     ]
    }
   ],
   "source": [
    "def mi_event_parsing(miinfofile, nr_time_intervals):\n",
    "\n",
    "    nr_pci = None\n",
    "    \n",
    "    lte_4G_handover_list = []   #4G 狀態下LTE eNB 的 handover\n",
    "    \n",
    "    nr_setup_list = []          #gNB cell addition\n",
    "    nr_handover_list = []       #gNB cell changes (eNB stays the same)\n",
    "    nr_removal_list = []        #gNB cell removal\n",
    "        \n",
    "    lte_5G_handover_list = []   #(eNB1, gNB1) -> (eNB2, gNB1) #gNB stays the same\n",
    "    nr_lte_handover_list = []   #both NR cell and LTE cell have handover\n",
    "    \n",
    "    scg_failure_list = []       #gNB handover failure\n",
    "    reestablish_list = []       #eNB handover failure\n",
    "    \n",
    "    nr_handover = 0\n",
    "    nr_handover_start_index = None\n",
    "    lte_handover = 0\n",
    "    lte_handover_start_index = None\n",
    "    nr_release = 0\n",
    "    nr_release_start_index = None\n",
    "    \n",
    "    handover_num = 0\n",
    "    \n",
    "    #initialization\n",
    "    #----------------------------------------------------------------\n",
    "    if miinfofile.loc[0, \"time\"] in nr_time_intervals:\n",
    "        nr_pci = 1000000            #先設置一個數 dummy nr pci\n",
    "    \n",
    "    for i in range(len(miinfofile)):       \n",
    "        if miinfofile.loc[i, \"nr-rrc.t304\"]:\n",
    "            if nr_handover == 0:    \n",
    "                nr_handover = 1\n",
    "                nr_handover_start_index = i\n",
    "                \n",
    "        if miinfofile.loc[i, \"lte-rrc.t304\"]:\n",
    "            if lte_handover == 0:\n",
    "                lte_handover = 1\n",
    "                lte_handover_start_index = i\n",
    "                \n",
    "        if miinfofile.loc[i, \"nr-Config-r15: release (0)\"]:\n",
    "            if nr_release == 0:\n",
    "                nr_release = 1\n",
    "                nr_release_start_index = i\n",
    "           \n",
    "        if (nr_handover or lte_handover or nr_release) and miinfofile.loc[i, \"rrcConnectionReconfigurationComplete\"]:\n",
    "            handover_num +=1\n",
    "        \n",
    "        \n",
    "        #handover 種類分類\n",
    "        #------------------------------------------------------------------------------\n",
    "        if lte_handover and not nr_handover and miinfofile.loc[i, \"rrcConnectionReconfigurationComplete\"]:  # just lte cell handover event\n",
    "            lte_handover = 0\n",
    "            lte_4G_handover_list.append([miinfofile.loc[lte_handover_start_index, \"time\"], miinfofile.loc[i, \"time\"]])\n",
    "            \n",
    "        if nr_handover and not lte_handover and miinfofile.loc[i, \"rrcConnectionReconfigurationComplete\"]:  # just nr cell handover event\n",
    "            nr_handover = 0\n",
    "            if miinfofile.loc[nr_handover_start_index, \"dualConnectivityPHR: setup (1)\"]:     #This if-else statement classifies whether it is nr addition or nr handover\n",
    "                nr_setup_list.append([miinfofile.loc[nr_handover_start_index, \"time\"], miinfofile.loc[i, \"time\"]])       \n",
    "            else:\n",
    "                nr_handover_list.append([miinfofile.loc[nr_handover_start_index, \"time\"], miinfofile.loc[i, \"time\"]])\n",
    "                \n",
    "            #additional judgement:\n",
    "            #----------------------------\n",
    "            #if miinfofile.loc[nr_handover_start_index, \"dualConnectivityPHR: setup (1)\"] and nr_pci != None:\n",
    "            #    print(\"Warning: dualConnectivityPHR setup may not mean nr cell addition\", mi_file, i)\n",
    "            #if miinfofile.loc[nr_handover_start_index, \"dualConnectivityPHR: setup (1)\"]==0 and not (nr_pci != None and nr_pci != miinfofile.loc[nr_handover_start_index, \"nr_pci\"]): \n",
    "            #    print(\"Warning: nr-rrc.t304 without dualConnectivityPHR setup may not mean nr cell handover\", mi_file, i, nr_handover_start_index, miinfofile.loc[nr_handover_start_index, \"nr_pci\"], nr_pci)\n",
    "                \n",
    "            #nr_pci update lte_handover_start_time\n",
    "            nr_pci = miinfofile.loc[nr_handover_start_index, \"nr_pci\"]\n",
    "            \n",
    "            \n",
    "        if lte_handover and nr_handover and miinfofile.loc[i, \"rrcConnectionReconfigurationComplete\"]:      # both nr cell and lte cell handover event\n",
    "            lte_handover = 0\n",
    "            nr_handover = 0\n",
    "            if nr_pci == miinfofile.loc[lte_handover_start_index, \"nr_pci\"]:\n",
    "                lte_5G_handover_list.append([miinfofile.loc[lte_handover_start_index, \"time\"], miinfofile.loc[i, \"time\"]])\n",
    "            else:\n",
    "                nr_lte_handover_list.append([miinfofile.loc[lte_handover_start_index, \"time\"], miinfofile.loc[i, \"time\"]])\n",
    "            \n",
    "            #nr_pci update\n",
    "            nr_pci = miinfofile.loc[lte_handover_start_index, \"nr_pci\"]\n",
    "            \n",
    "        if nr_release and miinfofile.loc[i, \"rrcConnectionReconfigurationComplete\"]:\n",
    "            nr_pci = None\n",
    "            nr_release=0\n",
    "            nr_removal_list.append([miinfofile.loc[nr_release_start_index, \"time\"], miinfofile.loc[i, \"time\"]])\n",
    "        if miinfofile.loc[i, \"scgFailureInformationNR-r15\"]:\n",
    "            scg_failure_list.append([miinfofile.loc[i, \"time\"], miinfofile.loc[i, \"time\"]])\n",
    "        if miinfofile.loc[i, \"rrcConnectionReestablishmentRequest\"]:\n",
    "            reestablish_list.append([miinfofile.loc[i, \"time\"], miinfofile.loc[i, \"time\"]])\n",
    "            \n",
    "    return [lte_4G_handover_list, nr_setup_list, nr_handover_list, nr_removal_list, lte_5G_handover_list, nr_lte_handover_list, scg_failure_list, reestablish_list], handover_num\n",
    "\n",
    "#This function firstly generates three intervals for each [handover_start, handover_end] in handover_list\n",
    "#   a. before the handover_start event: [handover_start-second, handover_start]\n",
    "#   b. during the handover events: [handover_start, handover_end]\n",
    "#   c. after the handover_end event: [handover_end, handover_end+second]\n",
    "#Then, it returns the overall intervals before/during/after the handover event\n",
    "#--------------------------------------------------------------------\n",
    "def get_before_during_after_intervals(handover_list, second):\n",
    "    before_handover_intervals = P.empty()\n",
    "    handover_intervals = P.empty()\n",
    "    after_handover_intervals = P.empty()\n",
    "    for i in range(len(handover_list)):  \n",
    "        interval = P.closed( handover_list[i][0]-dt.timedelta(seconds=second), handover_list[i][0] )\n",
    "        before_handover_intervals = before_handover_intervals | interval\n",
    "        \n",
    "        interval = P.closed( handover_list[i][0], handover_list[i][1] )\n",
    "        handover_intervals = handover_intervals | interval\n",
    "        \n",
    "        interval = P.closed( handover_list[i][1], handover_list[i][1]+dt.timedelta(seconds=second) )\n",
    "        after_handover_intervals = after_handover_intervals | interval    \n",
    "    return before_handover_intervals, handover_intervals, after_handover_intervals\n",
    "   \n",
    "#This function returns the overall length of the intervals\n",
    "#--------------------------------------------------------------------\n",
    "def get_sum_intervals(intervals):\n",
    "    if intervals.empty:\n",
    "        return 0\n",
    "    sum = 0\n",
    "    for x in intervals:\n",
    "        sum += (x.upper - x.lower)/dt.timedelta(seconds=1)\n",
    "    return sum\n",
    "\n",
    "event_names = [\n",
    "    \"lte_4G_handover\",\n",
    "    \"nr_setup\",\n",
    "    \"nr_handover\",\n",
    "    \"nr_removal\",\n",
    "    \"lte_5G_handover\",\n",
    "    \"nr_lte_handover_list\",\n",
    "    \"scg_failure\",\n",
    "    \"reestablish\"\n",
    "]\n",
    "\n",
    "column_names = []\n",
    "\n",
    "for i in range(len(event_names)-2):\n",
    "    column_names += [\"before_\"+event_names[i]+\"_intervals\", \"during_\"+event_names[i]+\"_intervals\", \"after_\"+event_names[i]+\"_intervals\"]\n",
    "for i in range(len(event_names)-2, len(event_names)):\n",
    "    column_names += [\"before_\"+event_names[i]+\"_intervals\", \"after_\"+event_names[i]+\"_intervals\"]\n",
    "    \n",
    "column_names += [\"nr_time_intervals\", \"weak_nr_intervals\", \"weak_lte_intervals\"]\n",
    "print(\"column_names=\", column_names)\n",
    "\n",
    "sum_intervals = [0] * len(column_names)\n",
    "sum_packet_loss = [0] * len(column_names)\n",
    "sum_stable_intervals = 0"
   ]
  },
  {
   "cell_type": "code",
   "execution_count": 74,
   "id": "7ea2358f",
   "metadata": {},
   "outputs": [
    {
     "name": "stdout",
     "output_type": "stream",
     "text": [
      "042122080537_new.csv diag_log_20220421_201721_b0e4a15ac89caff782b5f2af1b41b5d2_Xiaomi-M2007J3SY_46697.mi2log.txt_3.csv 2022-4-21-20-04-34_pcap.csv\n",
      "[100, 0, 0, 0, 36, 0, 14, 0, 7, 2, 0, 6, 6, 3, 0, 4, 0, 0, 0, 0, 0, 3, 39, 59, 677.0]\n",
      "4670.4404110000005\n",
      "[28.0, 0.518864, 28.0, 105.70288400000001, 70.91771400000002, 105.70417599999999, 105.279885, 154.82281199999997, 105.23936100000002, 69.665002, 3.7371820000000007, 69.661304, 123.188512, 4.28409, 123.187073, 7.0, 0.251403, 7.0, 3.0, 3.0, 37.772261, 37.772261]\n",
      "[0.5714285714285714, 1.9272873045730674, 0.21428571428571427, 1.3717695725312469, 0.0282016986616348, 0.7000669491052085, 0.1899698123720405, 0.2648188562806882, 0.2185494075738449, 0.1435440998049494, 5.084044609012886, 0.7751792874850577, 0.21917628163249508, 0.0, 0.2516497814669239, 0.0, 0.0, 0.2857142857142857, 0.3333333333333333, 2.0, 0.5294890872431491, 4.7918762395505]\n",
      "------------------------------\n",
      "042122081929_new.csv diag_log_20220421_203616_b0e4a15ac89caff782b5f2af1b41b5d2_Xiaomi-M2007J3SY_46697.mi2log.txt_3.csv 2022-4-21-20-18-44_pcap.csv\n",
      "[48, 0, 0, 1, 6, 0, 7, 7, 9, 7, 3, 0, 2, 7, 0, 1, 0, 0, 0, 0, 0, 1, 15, 73, 967.0]\n",
      "5523.34662\n",
      "[36.0, 0.681116, 36.0, 122.56790800000002, 71.52457700000002, 122.56837599999999, 123.279885, 159.45438199999998, 123.23936100000002, 81.521073, 4.258956, 81.51875100000001, 138.188512, 4.742628, 138.187073, 8.0, 0.28979699999999997, 8.0, 3.0, 3.0, 43.772261, 43.772261]\n",
      "[0.4444444444444444, 1.4681786949653215, 0.19444444444444445, 1.231970117332834, 0.02796241633138214, 0.6608556190709421, 0.2190138318185485, 0.31356930661209426, 0.2434287207964345, 0.15946796971134078, 4.461187201746156, 0.6869585133854663, 0.24604071284883652, 0.0, 0.23157014115205987, 0.0, 0.0, 0.25, 0.3333333333333333, 2.0, 0.47975588923770696, 4.477721632885265]\n",
      "------------------------------\n",
      "042122084330_new.csv diag_log_20220421_205559_b0e4a15ac89caff782b5f2af1b41b5d2_Xiaomi-M2007J3SY_46697.mi2log.txt_3.csv 2022-4-21-20-41-14_pcap.csv\n",
      "[52, 16, 0, 1, 12, 1, 2, 6, 5, 1, 1, 1, 24, 4, 0, 7, 0, 0, 0, 1, 6, 1, 15, 64, 693.0]\n",
      "6062.027946\n",
      "[41.0, 0.7876610000000001, 41.0, 138.56790800000002, 124.64348900000002, 138.568376, 131.27988499999998, 180.494816, 131.23936100000003, 92.521073, 4.749961000000001, 92.51875100000001, 151.188512, 5.22888, 151.187073, 8.0, 0.28979699999999997, 8.0, 6.0, 6.0, 46.772261, 46.772261]\n",
      "[0.7804878048780488, 1.269581710913705, 0.1951219512195122, 1.1763185455610687, 0.024068645896136616, 0.5989822670650337, 0.2513713353725135, 0.3047178928396481, 0.2362096231175645, 0.15131687891254786, 4.210560886710438, 0.8646895806018825, 0.2513418479837939, 0.0, 0.25795856236994547, 0.0, 0.0, 0.25, 0.3333333333333333, 2.0, 0.47036426141554283, 4.51122087084907]\n",
      "------------------------------\n",
      "042122090027_new.csv diag_log_20220421_211228_b0e4a15ac89caff782b5f2af1b41b5d2_Xiaomi-M2007J3SY_46697.mi2log.txt_3.csv 2022-4-21-20-57-15_pcap.csv\n",
      "[44, 0, 0, 1, 4, 0, 13, 0, 0, 0, 1, 0, 2, 1, 0, 2, 0, 0, 2, 0, 0, 6, 14, 48, 677.0]\n",
      "6659.099745\n",
      "[45.0, 0.8576630000000001, 45.0, 147.56790800000002, 124.93024400000002, 147.568376, 142.13280299999997, 192.073954, 142.09023600000003, 98.521073, 5.537332000000001, 98.51875100000001, 163.188512, 5.697274, 163.187073, 9.0, 0.330748, 9.0, 6.0, 6.0, 51.544522, 51.544522]\n",
      "[0.7111111111111111, 1.1659591238050375, 0.2, 1.1316823709393506, 0.024013400630194876, 0.6505458866064908, 0.23217722653369474, 0.2863480386309952, 0.21817121902732284, 0.15225169137165204, 3.6118477273892906, 0.8323288629592959, 0.2389874110746227, 0.0, 0.2512453912326744, 0.0, 0.0, 0.4444444444444444, 0.3333333333333333, 2.0, 0.5432197043169786, 4.365158338261435]\n",
      "------------------------------\n",
      "042122091753_new.csv diag_log_20220421_212534_b0e4a15ac89caff782b5f2af1b41b5d2_Xiaomi-M2007J3SY_46697.mi2log.txt_3.csv 2022-4-21-21-17-05_pcap.csv\n",
      "[51, 0, 1, 1, 4, 0, 3, 2, 0, 6, 1, 0, 4, 3, 0, 2, 0, 0, 0, 0, 0, 2, 14, 59, 458.514305]\n",
      "7025.378336000001\n",
      "[53.0, 0.9974820000000001, 53.0, 159.56790800000002, 136.74744900000002, 159.568376, 150.13280299999997, 192.194785, 150.09023600000003, 108.521073, 5.968680000000001, 108.51875100000001, 180.377024, 6.269779, 180.374146, 11.0, 0.397911, 11.0, 6.0, 6.0, 54.544522, 54.544522]\n",
      "[0.6037735849056604, 2.005048712658474, 0.18867924528301888, 1.071644055144221, 0.0219382520254546, 0.6204236859564204, 0.23312693362555822, 0.28616801439227396, 0.24651836779042705, 0.147436802435597, 3.3508246379433975, 0.792489769809459, 0.2328456200718779, 0.0, 0.23839336708488146, 0.0, 0.0, 0.36363636363636365, 0.3333333333333333, 2.0, 0.5500094033274322, 4.381741579841877]\n",
      "------------------------------\n",
      "042122093019_new.csv diag_log_20220421_214426_b0e4a15ac89caff782b5f2af1b41b5d2_Xiaomi-M2007J3SY_46697.mi2log.txt_3.csv 2022-4-21-21-29-15_pcap.csv\n",
      "[52, 0, 0, 2, 11, 1, 7, 5, 6, 3, 4, 0, 4, 3, 0, 7, 0, 0, 0, 0, 0, 1, 6, 67, 774.0]\n",
      "7680.8638040000005\n",
      "[56.0, 1.037728, 56.0, 169.40576800000002, 140.29565100000002, 169.408352, 171.89568299999996, 214.38189, 171.85310100000004, 115.330004, 6.335948000000001, 115.322608, 198.377024, 6.9439649999999995, 198.374146, 11.0, 0.397911, 11.0, 6.0, 6.0, 57.544522, 57.544522]\n",
      "[0.5714285714285714, 1.9272873045730674, 0.21428571428571427, 1.0743435843341531, 0.028511218783253654, 0.6257070489653308, 0.23269927028941156, 0.2845389598906885, 0.23275692883772864, 0.1734154106159573, 3.1565915629358066, 0.7804193953019168, 0.22684078575551167, 0.0, 0.25204897416420385, 0.0, 0.0, 0.36363636363636365, 0.3333333333333333, 2.0, 0.5387133114078174, 4.257572944997267]\n",
      "------------------------------\n"
     ]
    }
   ],
   "source": [
    "dirpath = r\"C:\\Users\\User\\Desktop\\data\\xm04\"\n",
    "cellinfodir = sorted(os.listdir(os.path.join(dirpath, \"cellinfo\")))\n",
    "mi2logdir = sorted(os.listdir(os.path.join(dirpath, \"mi2log\")))\n",
    "pcapdir = sorted(os.listdir(os.path.join(dirpath, \"pcap\")))\n",
    "assert(len(cellinfodir) == len(mi2logdir) == len(pcapdir) )\n",
    "for cellinfo, mi2log, pcapcsv in zip(cellinfodir, mi2logdir, pcapdir):\n",
    "    print(cellinfo, mi2log, pcapcsv)\n",
    "\n",
    "    cellinfofile = pd.read_csv(os.path.join(os.path.join(dirpath, \"cellinfo\"), cellinfo))\n",
    "    cellinfofile.loc[:, \"Date\"] = pd.to_datetime(cellinfofile.loc[:, \"Date\"])\n",
    "\n",
    "    miinfofile = pd.read_csv(os.path.join(os.path.join(dirpath, \"mi2log\"), mi2log))\n",
    "    miinfofile.loc[:, \"time\"] = pd.to_datetime(miinfofile.loc[:, \"time\"]) + dt.timedelta(hours=8)\n",
    "\n",
    "    pcapdf = read_pcapcsv(os.path.join(os.path.join(dirpath, \"pcap\"), pcapcsv))\n",
    "    #======================lost time (and latency)=============================\n",
    "    # loss_time, latency = get_loss_latency(pcap)\n",
    "    ret_list = get_ret(pcapdf) \n",
    "    #======================before mi event parse, parse NR intervals first=====\n",
    "    nr_time_intervals = P.empty()\n",
    "    if cellinfofile.loc[0, \"NR_SSRSRP\"] != \"-\":\n",
    "        nr_time_intervals = P.singleton(cellinfofile.loc[0, \"Date\"])\n",
    "    for i in range(1, len(cellinfofile)):\n",
    "        if cellinfofile.loc[i, \"NR_SSRSRP\"] != \"-\":\n",
    "            nr_time_intervals = nr_time_intervals | P.openclosed(cellinfofile.loc[i-1, \"Date\"] , cellinfofile.loc[i, \"Date\"])\n",
    "    weak_nr_intervals = P.empty()\n",
    "    if cellinfofile.loc[0, \"NR_SSRSRP\"] != \"-\" and int(cellinfofile.loc[0, \"NR_SSRSRP\"]) <= -90:\n",
    "        weak_nr_intervals = P.singleton(cellinfofile.loc[0, \"Date\"])\n",
    "    for i in range(1, len(cellinfofile)):\n",
    "        if cellinfofile.loc[i, \"NR_SSRSRP\"] != \"-\" and int(cellinfofile.loc[i, \"NR_SSRSRP\"]) <= -90:\n",
    "            weak_nr_intervals = weak_nr_intervals | P.openclosed(cellinfofile.loc[i-1, \"Date\"] , cellinfofile.loc[i, \"Date\"])\n",
    "    weak_lte_intervals = P.empty()\n",
    "    if cellinfofile.loc[0, \"LTE_RSRP\"] != \"-\" and int(cellinfofile.loc[0, \"LTE_RSRP\"]) <= -90:\n",
    "        weak_lte_intervals = P.singleton(cellinfofile.loc[0, \"Date\"])\n",
    "    for i in range(1, len(cellinfofile)):\n",
    "        if cellinfofile.loc[i, \"LTE_RSRP\"] != \"-\" and int(cellinfofile.loc[i, \"LTE_RSRP\"]) <= -90:\n",
    "            weak_lte_intervals = weak_lte_intervals | P.openclosed(cellinfofile.loc[i-1, \"Date\"] , cellinfofile.loc[i, \"Date\"])\n",
    "\n",
    "    #======================mi event parse======================================  \n",
    "    handover_event_lists, handover_num = mi_event_parsing(miinfofile, nr_time_intervals)\n",
    "\n",
    "    #======================making intervals====================================\n",
    "    intervals = []\n",
    "\n",
    "    for handover_event_list in handover_event_lists[:-2]:\n",
    "        before_intervals, during_intervals, after_intervals = get_before_during_after_intervals(handover_event_list, 1)     #抓取前後一秒\n",
    "        intervals += [before_intervals, during_intervals, after_intervals].copy()\n",
    "    for handover_event_list in handover_event_lists[-2:]:\n",
    "        before_intervals, _, after_intervals = get_before_during_after_intervals(handover_event_list, 3)                    #抓取前後三秒\n",
    "        intervals += [before_intervals, after_intervals].copy()    \n",
    "\n",
    "    intervals += [nr_time_intervals, weak_nr_intervals, weak_lte_intervals]\n",
    "    #================================judgement=================================\n",
    "    out = pd.DataFrame(columns = column_names, dtype=object)\n",
    "\n",
    "    #------check time-------\n",
    "    start_time = miinfofile.loc[0, \"time\"]\n",
    "    if cellinfofile.loc[0, \"Date\"] > start_time:\n",
    "        start_time = cellinfofile.loc[0, \"Date\"]\n",
    "#     if latency[0][0] > start_time:\n",
    "#         start_time = latency[0][0]\n",
    "    end_time = miinfofile.loc[len(miinfofile)-1, \"time\"]\n",
    "    if cellinfofile.loc[len(cellinfofile)-1, \"Date\"] < end_time:\n",
    "        end_time = cellinfofile.loc[len(cellinfofile)-1, \"Date\"]\n",
    "#     if latency[0][-1] < end_time:\n",
    "#         end_time = latency[0][-1]\n",
    "    ###\n",
    "    \n",
    "    for loss_index in range(len(ret_list)):    \n",
    "        if ret_list[loss_index] < start_time:\n",
    "            continue\n",
    "        if ret_list[loss_index] > end_time:\n",
    "            continue\n",
    "\n",
    "        types = [0]*len(intervals)\n",
    "        for i in range(len(intervals)):\n",
    "            if ret_list[loss_index] in intervals[i]:\n",
    "                types[i] = 1\n",
    "        out.loc[loss_index] = types                \n",
    "    #output: number of packet loss, number of packet loss under each type, handover num, overall experiment time, file names \n",
    "    output = [len(out)] + [len(out.loc[ out[column_names[i]]==1 ]) for i in range(len(column_names)-3)] + [handover_num, (end_time-start_time)/dt.timedelta(seconds=1)]\n",
    "    print(output)\n",
    "\n",
    "\n",
    "\n",
    "    for i in range(len(column_names)):\n",
    "        intervals[i] = intervals[i] & P.closed(start_time, end_time)\n",
    "        sum_intervals[i] += get_sum_intervals(intervals[i])\n",
    "\n",
    "    stable_intervals = P.closed(start_time, end_time)\n",
    "    for i in range(len(column_names)-3):\n",
    "        stable_intervals = stable_intervals - intervals[i]\n",
    "    sum_stable_intervals += get_sum_intervals(stable_intervals)\n",
    "\n",
    "    for i in range(len(column_names)-3):\n",
    "        sum_packet_loss[i] += len(out.loc[ out[column_names[i]]==1 ])\n",
    "\n",
    "    #User can decide whether save the packet loss classification as csv file\n",
    "    out.to_csv(\"all_loss_classify_7.csv\", mode='a')\n",
    "\n",
    "    print(sum_stable_intervals)\n",
    "    print([sum_intervals[i] for i in range(len(column_names)-3)])\n",
    "    ratelist = []\n",
    "    for i in range(len(column_names)-3):\n",
    "        if sum_intervals[i]:\n",
    "            ratelist.append(sum_packet_loss[i]/(sum_intervals[i]))\n",
    "    print(ratelist)\n",
    "    print(\"-\"*30)"
   ]
  },
  {
   "cell_type": "code",
   "execution_count": null,
   "id": "f5bc8ae2",
   "metadata": {
    "scrolled": true
   },
   "outputs": [],
   "source": [
    "rxfile = r\"C:\\Users\\User\\Desktop\\data\\UL_3252.csv\"\n",
    "# txfile = r\"C:\\Users\\User\\Desktop\\data\\UL_3252.csv\"\n",
    "\n",
    "# txdf = read_csv(txfile)\n",
    "rxdf = read_csv(rxfile)\n",
    "\n"
   ]
  },
  {
   "cell_type": "code",
   "execution_count": 89,
   "id": "268c18a9",
   "metadata": {
    "scrolled": false
   },
   "outputs": [
    {
     "name": "stderr",
     "output_type": "stream",
     "text": [
      "100%|█████████████████████████████████████████████████████████████████████████| 99276/99276 [00:08<00:00, 11239.95it/s]\n"
     ]
    }
   ],
   "source": [
    "tseq_time_dict = get_client_ul_seq(txdf)\n"
   ]
  },
  {
   "cell_type": "code",
   "execution_count": 108,
   "id": "a019698d",
   "metadata": {
    "scrolled": true
   },
   "outputs": [
    {
     "name": "stderr",
     "output_type": "stream",
     "text": [
      "100%|███████████████████████████████████████████████████████████████████████████| 2217/2217 [00:00<00:00, 20911.06it/s]\n"
     ]
    }
   ],
   "source": [
    "rseq_time_dict = get_server_ul_seq(rxdf)"
   ]
  },
  {
   "cell_type": "markdown",
   "id": "4164881c",
   "metadata": {},
   "source": [
    "(49.216.179.104, 192.168.102.40)\n",
    "(10.196.223.66, 192.168.42.129)"
   ]
  },
  {
   "cell_type": "code",
   "execution_count": 90,
   "id": "b7531487",
   "metadata": {
    "scrolled": true
   },
   "outputs": [
    {
     "name": "stdout",
     "output_type": "stream",
     "text": [
      "('192.168.102.152', 40614) 33261\n",
      "('192.168.1.88', 51615) 86141\n"
     ]
    }
   ],
   "source": [
    "tseq_time_list = []\n",
    "for ip in tseq_time_dict:\n",
    "    print(ip, len(tseq_time_dict[ip]))\n",
    "    tseq_time_list.append(tseq_time_dict[ip])\n"
   ]
  },
  {
   "cell_type": "code",
   "execution_count": 109,
   "id": "0fa882b8",
   "metadata": {
    "scrolled": false
   },
   "outputs": [
    {
     "name": "stdout",
     "output_type": "stream",
     "text": [
      "('49.216.226.169', 1210) 1497\n"
     ]
    }
   ],
   "source": [
    "rseq_time_list = []\n",
    "for ip in rseq_time_dict:\n",
    "    print(ip, len(rseq_time_dict[ip]))\n",
    "    rseq_time_list.append(rseq_time_dict[ip])"
   ]
  },
  {
   "cell_type": "code",
   "execution_count": 110,
   "id": "72910b99",
   "metadata": {},
   "outputs": [
    {
     "name": "stderr",
     "output_type": "stream",
     "text": [
      "100%|███████████████████████████████████████████████████████████████████████████| 2217/2217 [00:00<00:00, 20907.11it/s]\n"
     ]
    }
   ],
   "source": [
    "rseq_time_dict = get_server_ul_seq(rxdf)"
   ]
  },
  {
   "cell_type": "code",
   "execution_count": 80,
   "id": "68e05be0",
   "metadata": {
    "scrolled": false
   },
   "outputs": [
    {
     "data": {
      "image/png": "[encoded data removed]",
      "text/plain": [
       "<Figure size 432x288 with 1 Axes>"
      ]
     },
     "metadata": {
      "needs_background": "light"
     },
     "output_type": "display_data"
    },
    {
     "name": "stdout",
     "output_type": "stream",
     "text": [
      "665\n"
     ]
    }
   ],
   "source": [
    "x = np.array(np.copy(rseq_time_list[0]))\n",
    "plt.plot(x[:, 1], x[:, 2])\n",
    "plt.show()\n",
    "print(len(x))"
   ]
  },
  {
   "cell_type": "code",
   "execution_count": null,
   "id": "8605f694",
   "metadata": {
    "scrolled": true
   },
   "outputs": [],
   "source": []
  },
  {
   "cell_type": "code",
   "execution_count": 81,
   "id": "1701e477",
   "metadata": {
    "scrolled": false
   },
   "outputs": [
    {
     "data": {
      "image/png": "[encoded data removed]",
      "text/plain": [
       "<Figure size 432x288 with 1 Axes>"
      ]
     },
     "metadata": {
      "needs_background": "light"
     },
     "output_type": "display_data"
    },
    {
     "name": "stdout",
     "output_type": "stream",
     "text": [
      "665\n",
      "0.019488532330827063\n"
     ]
    }
   ],
   "source": [
    "l0 = UL_latency(rseq_time_list[0], tseq_time_list[0])"
   ]
  },
  {
   "cell_type": "code",
   "execution_count": 82,
   "id": "efa00623",
   "metadata": {
    "scrolled": true
   },
   "outputs": [
    {
     "data": {
      "image/png": "[encoded data removed]",
      "text/plain": [
       "<Figure size 432x288 with 1 Axes>"
      ]
     },
     "metadata": {
      "needs_background": "light"
     },
     "output_type": "display_data"
    },
    {
     "name": "stdout",
     "output_type": "stream",
     "text": [
      "364\n",
      "0.014670434065934072\n"
     ]
    }
   ],
   "source": [
    "l1 = UL_latency(rseq_time_list[1], tseq_time_list[1])"
   ]
  },
  {
   "cell_type": "code",
   "execution_count": 73,
   "id": "c57e64e6",
   "metadata": {},
   "outputs": [],
   "source": [
    "i = 0\n",
    "j = 0\n",
    "latency_list = []\n",
    "\n",
    "while i < len(l1) and j < len(l0):\n",
    "#     if l1[i][2] * 100 < l0[j][2] or l1[i][2] > l0[j][2] * 100:\n",
    "#         break\n",
    "\n",
    "    if l1[i][2] < l0[j][2]:\n",
    "        i += 1\n",
    "    elif l1[i][2] > l0[j][2]:\n",
    "        j += 1\n",
    "    else:\n",
    "        print(l1[i][2])\n",
    "        # latency, time, seq\n",
    "#             print(l1[i][0], l2[j][0], np.min())\n",
    "        latency_list.append((np.min((l1[i][0], l0[j][0])), l1[j][1], l0[j][2]))\n",
    "        i += 1\n",
    "        j += 1"
   ]
  },
  {
   "cell_type": "code",
   "execution_count": 36,
   "id": "2d939f1c",
   "metadata": {
    "scrolled": false
   },
   "outputs": [
    {
     "data": {
      "text/plain": [
       "array([[0.005712999999999999, Timestamp('2022-04-17 17:38:24.208284'), 0],\n",
       "       [0.022269, Timestamp('2022-04-17 17:38:24.212731'), 1],\n",
       "       [0.022269, Timestamp('2022-04-17 17:38:24.212731'), 2],\n",
       "       ...,\n",
       "       [0.010082, Timestamp('2022-04-17 17:39:17.366451'), 52772],\n",
       "       [0.010082, Timestamp('2022-04-17 17:39:17.366451'), 52773],\n",
       "       [0.010082, Timestamp('2022-04-17 17:39:17.366451'), 52774]],\n",
       "      dtype=object)"
      ]
     },
     "execution_count": 36,
     "metadata": {},
     "output_type": "execute_result"
    }
   ],
   "source": [
    "l0"
   ]
  },
  {
   "cell_type": "code",
   "execution_count": 35,
   "id": "bb327ed9",
   "metadata": {
    "scrolled": true
   },
   "outputs": [
    {
     "data": {
      "text/plain": [
       "array([[0.005209999999999999, Timestamp('2022-04-17 17:38:24.297633'),\n",
       "        33],\n",
       "       [0.005209999999999999, Timestamp('2022-04-17 17:38:24.297633'),\n",
       "        34],\n",
       "       [0.005209999999999999, Timestamp('2022-04-17 17:38:24.297633'),\n",
       "        35],\n",
       "       ...,\n",
       "       [0.0027469999999999994, Timestamp('2022-04-17 17:39:17.362846'),\n",
       "        52770],\n",
       "       [0.004284, Timestamp('2022-04-17 17:39:17.370081'), 52776],\n",
       "       [0.004284, Timestamp('2022-04-17 17:39:17.370081'), 52777]],\n",
       "      dtype=object)"
      ]
     },
     "execution_count": 35,
     "metadata": {},
     "output_type": "execute_result"
    }
   ],
   "source": [
    "l1"
   ]
  },
  {
   "cell_type": "code",
   "execution_count": 72,
   "id": "46480f9a",
   "metadata": {
    "scrolled": true
   },
   "outputs": [
    {
     "name": "stderr",
     "output_type": "stream",
     "text": [
      "100%|███████████████████████████████████████████████████████████████████████████| 1649/1649 [00:00<00:00, 58850.52it/s]"
     ]
    },
    {
     "name": "stdout",
     "output_type": "stream",
     "text": [
      "mean: 0.033229367718446604\n"
     ]
    },
    {
     "name": "stderr",
     "output_type": "stream",
     "text": [
      "\n"
     ]
    },
    {
     "data": {
      "image/png": "[encoded data removed]",
      "text/plain": [
       "<Figure size 432x288 with 1 Axes>"
      ]
     },
     "metadata": {
      "needs_background": "light"
     },
     "output_type": "display_data"
    }
   ],
   "source": [
    "rtt_plot(txdf)"
   ]
  },
  {
   "cell_type": "code",
   "execution_count": 155,
   "id": "11b24e65",
   "metadata": {},
   "outputs": [
    {
     "data": {
      "text/plain": [
       "44"
      ]
     },
     "execution_count": 155,
     "metadata": {},
     "output_type": "execute_result"
    }
   ],
   "source": [
    "len(mpl)"
   ]
  },
  {
   "cell_type": "code",
   "execution_count": null,
   "id": "927c8b62",
   "metadata": {},
   "outputs": [],
   "source": []
  }
 ],
 "metadata": {
  "kernelspec": {
   "display_name": "Python 3 (ipykernel)",
   "language": "python",
   "name": "python3"
  },
  "language_info": {
   "codemirror_mode": {
    "name": "ipython",
    "version": 3
   },
   "file_extension": ".py",
   "mimetype": "text/x-python",
   "name": "python",
   "nbconvert_exporter": "python",
   "pygments_lexer": "ipython3",
   "version": "3.7.11"
  }
 },
 "nbformat": 4,
 "nbformat_minor": 5
}
