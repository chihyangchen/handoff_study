{
 "cells": [
  {
   "cell_type": "code",
   "execution_count": 2,
   "metadata": {},
   "outputs": [],
   "source": [
    "import datetime as dt\n",
    "from statistics import mean\n",
    "import sys\n",
    "import os\n",
    "import numpy as np\n",
    "import matplotlib.pyplot as plt\n",
    "import pandas as pd\n",
    "import time\n",
    "from tqdm import tqdm\n",
    "import portion as P\n",
    "length_packet = 362\n",
    "\n",
    "def rtt_plot(df):\n",
    "    l1 = []\n",
    "    l2 = []\n",
    "    for i in tqdm(range(len(df))):\n",
    "        if not np.isnan(df.loc[i, \"tcp.analysis.ack_rtt\"]):\n",
    "            l1.append(df.loc[i, \"frame.time\"])\n",
    "            l2.append(df.loc[i, \"tcp.analysis.ack_rtt\"])\n",
    "    print(\"mean:\", np.mean(l2))\n",
    "    plt.plot(l1, l2)\n",
    "    plt.show()\n",
    "\n",
    "\n",
    "\n",
    "def latency_impulse(latency_list, t):\n",
    "    return sum(latency_list[:, 0] > t) / len(latency_list)\n",
    "\n",
    "def read_pcapcsv(filename):\n",
    "    # f = open(filename, \"r\", encoding='utf8')\n",
    "    # l = f.readline()\n",
    "    # while l:\n",
    "    #     l = l.split('@')\n",
    "    #     # print(len(l), l)\n",
    "    #     if len(l) != 13:\n",
    "    #         print(len(l), l)\n",
    "    #     l = f.readline()    \n",
    "    df = pd.read_csv(filename, sep='@')\n",
    "    df.loc[:, \"frame.time\"] = pd.to_datetime(df.loc[:, r\"frame.time\"]).dt.tz_localize(None)\n",
    "    return df\n",
    "\n",
    "\n"
   ]
  },
  {
   "cell_type": "code",
   "execution_count": 11,
   "metadata": {},
   "outputs": [
    {
     "name": "stderr",
     "output_type": "stream",
     "text": [
      "c:\\Users\\User\\anaconda3\\lib\\site-packages\\dateutil\\parser\\_parser.py:1207: UnknownTimezoneWarning: tzname CST identified but not understood.  Pass `tzinfos` argument in order to correctly return a timezone-aware datetime.  In a future version, this will raise an exception.\n",
      "  warnings.warn(\"tzname {tzname} identified but not understood.  \"\n"
     ]
    }
   ],
   "source": [
    "filepath = r'C:\\Users\\User\\Desktop\\data\\videostreaming_pcap.csv'\n",
    "df = read_pcapcsv(filepath)"
   ]
  },
  {
   "cell_type": "code",
   "execution_count": 12,
   "metadata": {},
   "outputs": [
    {
     "data": {
      "text/html": [
       "<div>\n",
       "<style scoped>\n",
       "    .dataframe tbody tr th:only-of-type {\n",
       "        vertical-align: middle;\n",
       "    }\n",
       "\n",
       "    .dataframe tbody tr th {\n",
       "        vertical-align: top;\n",
       "    }\n",
       "\n",
       "    .dataframe thead th {\n",
       "        text-align: right;\n",
       "    }\n",
       "</style>\n",
       "<table border=\"1\" class=\"dataframe\">\n",
       "  <thead>\n",
       "    <tr style=\"text-align: right;\">\n",
       "      <th></th>\n",
       "      <th>frame.number</th>\n",
       "      <th>frame.time</th>\n",
       "      <th>ip.src</th>\n",
       "      <th>ip.dst</th>\n",
       "      <th>_ws.col.Protocol</th>\n",
       "      <th>frame.len</th>\n",
       "      <th>tcp.analysis.acks_frame</th>\n",
       "      <th>tcp.len</th>\n",
       "      <th>tcp.analysis.ack_rtt</th>\n",
       "      <th>tcp.srcport</th>\n",
       "      <th>tcp.dstport</th>\n",
       "      <th>tcp.analysis.bytes_in_flight</th>\n",
       "      <th>_ws.col.Info</th>\n",
       "    </tr>\n",
       "  </thead>\n",
       "  <tbody>\n",
       "    <tr>\n",
       "      <th>0</th>\n",
       "      <td>1</td>\n",
       "      <td>2022-05-07 19:59:32.968368</td>\n",
       "      <td>49.216.182.54</td>\n",
       "      <td>192.168.1.248</td>\n",
       "      <td>MPTCP</td>\n",
       "      <td>88</td>\n",
       "      <td>NaN</td>\n",
       "      <td>0</td>\n",
       "      <td>NaN</td>\n",
       "      <td>1640</td>\n",
       "      <td>1935</td>\n",
       "      <td>NaN</td>\n",
       "      <td>1640 → 1935 [FIN, ACK] Seq=1 Ack=1 Win=12302 L...</td>\n",
       "    </tr>\n",
       "    <tr>\n",
       "      <th>1</th>\n",
       "      <td>2</td>\n",
       "      <td>2022-05-07 19:59:32.975050</td>\n",
       "      <td>192.168.1.248</td>\n",
       "      <td>49.216.182.54</td>\n",
       "      <td>MPTCP</td>\n",
       "      <td>88</td>\n",
       "      <td>1.0</td>\n",
       "      <td>0</td>\n",
       "      <td>0.006682</td>\n",
       "      <td>1935</td>\n",
       "      <td>1640</td>\n",
       "      <td>NaN</td>\n",
       "      <td>1935 → 1640 [FIN, ACK] Seq=1 Ack=2 Win=1002 Le...</td>\n",
       "    </tr>\n",
       "    <tr>\n",
       "      <th>2</th>\n",
       "      <td>3</td>\n",
       "      <td>2022-05-07 19:59:32.994758</td>\n",
       "      <td>49.216.182.54</td>\n",
       "      <td>192.168.1.248</td>\n",
       "      <td>MPTCP</td>\n",
       "      <td>76</td>\n",
       "      <td>2.0</td>\n",
       "      <td>0</td>\n",
       "      <td>0.019708</td>\n",
       "      <td>1640</td>\n",
       "      <td>1935</td>\n",
       "      <td>NaN</td>\n",
       "      <td>1640 → 1935 [ACK] Seq=2 Ack=2 Win=12302 Len=0 ...</td>\n",
       "    </tr>\n",
       "    <tr>\n",
       "      <th>3</th>\n",
       "      <td>4</td>\n",
       "      <td>2022-05-07 19:59:32.995748</td>\n",
       "      <td>49.216.182.54</td>\n",
       "      <td>192.168.1.248</td>\n",
       "      <td>MPTCP</td>\n",
       "      <td>76</td>\n",
       "      <td>NaN</td>\n",
       "      <td>0</td>\n",
       "      <td>NaN</td>\n",
       "      <td>1640</td>\n",
       "      <td>1935</td>\n",
       "      <td>NaN</td>\n",
       "      <td>[TCP Dup ACK 3#1] 1640 → 1935 [ACK] Seq=2 Ack=...</td>\n",
       "    </tr>\n",
       "    <tr>\n",
       "      <th>4</th>\n",
       "      <td>5</td>\n",
       "      <td>2022-05-07 19:59:32.995766</td>\n",
       "      <td>192.168.1.248</td>\n",
       "      <td>49.216.182.54</td>\n",
       "      <td>TCP</td>\n",
       "      <td>56</td>\n",
       "      <td>NaN</td>\n",
       "      <td>0</td>\n",
       "      <td>NaN</td>\n",
       "      <td>1935</td>\n",
       "      <td>1640</td>\n",
       "      <td>NaN</td>\n",
       "      <td>1935 → 1640 [RST] Seq=2 Win=0 Len=0</td>\n",
       "    </tr>\n",
       "    <tr>\n",
       "      <th>...</th>\n",
       "      <td>...</td>\n",
       "      <td>...</td>\n",
       "      <td>...</td>\n",
       "      <td>...</td>\n",
       "      <td>...</td>\n",
       "      <td>...</td>\n",
       "      <td>...</td>\n",
       "      <td>...</td>\n",
       "      <td>...</td>\n",
       "      <td>...</td>\n",
       "      <td>...</td>\n",
       "      <td>...</td>\n",
       "      <td>...</td>\n",
       "    </tr>\n",
       "    <tr>\n",
       "      <th>188865</th>\n",
       "      <td>188866</td>\n",
       "      <td>2022-05-07 20:01:21.743922</td>\n",
       "      <td>192.168.1.248</td>\n",
       "      <td>192.168.1.1</td>\n",
       "      <td>TCP</td>\n",
       "      <td>56</td>\n",
       "      <td>NaN</td>\n",
       "      <td>0</td>\n",
       "      <td>NaN</td>\n",
       "      <td>1935</td>\n",
       "      <td>40624</td>\n",
       "      <td>NaN</td>\n",
       "      <td>1935 → 40624 [RST] Seq=3591 Win=0 Len=0</td>\n",
       "    </tr>\n",
       "    <tr>\n",
       "      <th>188866</th>\n",
       "      <td>188867</td>\n",
       "      <td>2022-05-07 20:01:21.744059</td>\n",
       "      <td>140.112.20.183</td>\n",
       "      <td>192.168.1.248</td>\n",
       "      <td>TCP</td>\n",
       "      <td>62</td>\n",
       "      <td>NaN</td>\n",
       "      <td>0</td>\n",
       "      <td>NaN</td>\n",
       "      <td>1935</td>\n",
       "      <td>40624</td>\n",
       "      <td>NaN</td>\n",
       "      <td>1935 → 40624 [RST] Seq=3591 Win=0 Len=0</td>\n",
       "    </tr>\n",
       "    <tr>\n",
       "      <th>188867</th>\n",
       "      <td>188868</td>\n",
       "      <td>2022-05-07 20:01:21.744345</td>\n",
       "      <td>49.216.182.54</td>\n",
       "      <td>192.168.1.248</td>\n",
       "      <td>MPTCP</td>\n",
       "      <td>76</td>\n",
       "      <td>188839.0</td>\n",
       "      <td>0</td>\n",
       "      <td>0.018969</td>\n",
       "      <td>1442</td>\n",
       "      <td>1935</td>\n",
       "      <td>NaN</td>\n",
       "      <td>1442 → 1935 [ACK] Seq=3447 Ack=16481954 Win=15...</td>\n",
       "    </tr>\n",
       "    <tr>\n",
       "      <th>188868</th>\n",
       "      <td>188869</td>\n",
       "      <td>2022-05-07 20:01:21.744358</td>\n",
       "      <td>192.168.1.248</td>\n",
       "      <td>49.216.182.54</td>\n",
       "      <td>RTMP</td>\n",
       "      <td>599</td>\n",
       "      <td>NaN</td>\n",
       "      <td>511</td>\n",
       "      <td>NaN</td>\n",
       "      <td>1935</td>\n",
       "      <td>1442</td>\n",
       "      <td>511.0</td>\n",
       "      <td>Video Data</td>\n",
       "    </tr>\n",
       "    <tr>\n",
       "      <th>188869</th>\n",
       "      <td>188870</td>\n",
       "      <td>2022-05-07 20:01:21.817177</td>\n",
       "      <td>49.216.182.54</td>\n",
       "      <td>192.168.1.248</td>\n",
       "      <td>MPTCP</td>\n",
       "      <td>76</td>\n",
       "      <td>188869.0</td>\n",
       "      <td>0</td>\n",
       "      <td>0.072819</td>\n",
       "      <td>1442</td>\n",
       "      <td>1935</td>\n",
       "      <td>NaN</td>\n",
       "      <td>1442 → 1935 [ACK] Seq=3447 Ack=16482465 Win=15...</td>\n",
       "    </tr>\n",
       "  </tbody>\n",
       "</table>\n",
       "<p>188870 rows × 13 columns</p>\n",
       "</div>"
      ],
      "text/plain": [
       "        frame.number                 frame.time          ip.src  \\\n",
       "0                  1 2022-05-07 19:59:32.968368   49.216.182.54   \n",
       "1                  2 2022-05-07 19:59:32.975050   192.168.1.248   \n",
       "2                  3 2022-05-07 19:59:32.994758   49.216.182.54   \n",
       "3                  4 2022-05-07 19:59:32.995748   49.216.182.54   \n",
       "4                  5 2022-05-07 19:59:32.995766   192.168.1.248   \n",
       "...              ...                        ...             ...   \n",
       "188865        188866 2022-05-07 20:01:21.743922   192.168.1.248   \n",
       "188866        188867 2022-05-07 20:01:21.744059  140.112.20.183   \n",
       "188867        188868 2022-05-07 20:01:21.744345   49.216.182.54   \n",
       "188868        188869 2022-05-07 20:01:21.744358   192.168.1.248   \n",
       "188869        188870 2022-05-07 20:01:21.817177   49.216.182.54   \n",
       "\n",
       "               ip.dst _ws.col.Protocol  frame.len  tcp.analysis.acks_frame  \\\n",
       "0       192.168.1.248            MPTCP         88                      NaN   \n",
       "1       49.216.182.54            MPTCP         88                      1.0   \n",
       "2       192.168.1.248            MPTCP         76                      2.0   \n",
       "3       192.168.1.248            MPTCP         76                      NaN   \n",
       "4       49.216.182.54              TCP         56                      NaN   \n",
       "...               ...              ...        ...                      ...   \n",
       "188865    192.168.1.1              TCP         56                      NaN   \n",
       "188866  192.168.1.248              TCP         62                      NaN   \n",
       "188867  192.168.1.248            MPTCP         76                 188839.0   \n",
       "188868  49.216.182.54             RTMP        599                      NaN   \n",
       "188869  192.168.1.248            MPTCP         76                 188869.0   \n",
       "\n",
       "        tcp.len  tcp.analysis.ack_rtt  tcp.srcport  tcp.dstport  \\\n",
       "0             0                   NaN         1640         1935   \n",
       "1             0              0.006682         1935         1640   \n",
       "2             0              0.019708         1640         1935   \n",
       "3             0                   NaN         1640         1935   \n",
       "4             0                   NaN         1935         1640   \n",
       "...         ...                   ...          ...          ...   \n",
       "188865        0                   NaN         1935        40624   \n",
       "188866        0                   NaN         1935        40624   \n",
       "188867        0              0.018969         1442         1935   \n",
       "188868      511                   NaN         1935         1442   \n",
       "188869        0              0.072819         1442         1935   \n",
       "\n",
       "        tcp.analysis.bytes_in_flight  \\\n",
       "0                                NaN   \n",
       "1                                NaN   \n",
       "2                                NaN   \n",
       "3                                NaN   \n",
       "4                                NaN   \n",
       "...                              ...   \n",
       "188865                           NaN   \n",
       "188866                           NaN   \n",
       "188867                           NaN   \n",
       "188868                         511.0   \n",
       "188869                           NaN   \n",
       "\n",
       "                                             _ws.col.Info  \n",
       "0       1640 → 1935 [FIN, ACK] Seq=1 Ack=1 Win=12302 L...  \n",
       "1       1935 → 1640 [FIN, ACK] Seq=1 Ack=2 Win=1002 Le...  \n",
       "2       1640 → 1935 [ACK] Seq=2 Ack=2 Win=12302 Len=0 ...  \n",
       "3       [TCP Dup ACK 3#1] 1640 → 1935 [ACK] Seq=2 Ack=...  \n",
       "4                     1935 → 1640 [RST] Seq=2 Win=0 Len=0  \n",
       "...                                                   ...  \n",
       "188865            1935 → 40624 [RST] Seq=3591 Win=0 Len=0  \n",
       "188866            1935 → 40624 [RST] Seq=3591 Win=0 Len=0  \n",
       "188867  1442 → 1935 [ACK] Seq=3447 Ack=16481954 Win=15...  \n",
       "188868                                         Video Data  \n",
       "188869  1442 → 1935 [ACK] Seq=3447 Ack=16482465 Win=15...  \n",
       "\n",
       "[188870 rows x 13 columns]"
      ]
     },
     "execution_count": 12,
     "metadata": {},
     "output_type": "execute_result"
    }
   ],
   "source": [
    "df"
   ]
  },
  {
   "cell_type": "code",
   "execution_count": 15,
   "metadata": {},
   "outputs": [
    {
     "data": {
      "text/plain": [
       "ip.src    49.216.182.54\n",
       "ip.dst    192.168.1.248\n",
       "Name: 0, dtype: object"
      ]
     },
     "execution_count": 15,
     "metadata": {},
     "output_type": "execute_result"
    }
   ],
   "source": [
    "df.loc[0, [\"ip.src\", \"ip.dst\"]]"
   ]
  },
  {
   "cell_type": "code",
   "execution_count": 18,
   "metadata": {},
   "outputs": [
    {
     "name": "stderr",
     "output_type": "stream",
     "text": [
      "100%|██████████| 188870/188870 [00:02<00:00, 85018.86it/s]"
     ]
    },
    {
     "name": "stdout",
     "output_type": "stream",
     "text": [
      "{('192.168.1.1', '192.168.1.248'), ('192.168.1.248', '101.10.98.243'), ('101.10.98.243', '192.168.1.248'), ('192.168.1.248', '140.112.20.183'), ('192.168.1.248', '192.168.1.1'), ('140.112.20.183', '192.168.1.248'), ('49.216.182.54', '192.168.1.248'), ('192.168.1.248', '49.216.182.54')}\n"
     ]
    },
    {
     "name": "stderr",
     "output_type": "stream",
     "text": [
      "\n"
     ]
    }
   ],
   "source": [
    "pset = set()\n",
    "for i in tqdm(range(len(df))):\n",
    "    pset.add((df.loc[i, \"ip.src\"], df.loc[i, \"ip.dst\"]))\n",
    "print(pset)"
   ]
  },
  {
   "cell_type": "code",
   "execution_count": 25,
   "metadata": {},
   "outputs": [],
   "source": [
    "begin_time = df.loc[0, \"frame.time\"]\n",
    "end_time = df.loc[len(df)-1, \"frame.time\"]"
   ]
  },
  {
   "cell_type": "code",
   "execution_count": 83,
   "metadata": {},
   "outputs": [
    {
     "name": "stderr",
     "output_type": "stream",
     "text": [
      "100%|██████████| 188870/188870 [00:03<00:00, 48653.44it/s]\n"
     ]
    },
    {
     "name": "stdout",
     "output_type": "stream",
     "text": [
      "49.216.182.54 6527\n",
      "101.10.98.243 13280\n"
     ]
    }
   ],
   "source": [
    "rtt_list_dict = {}\n",
    "all_rtt_list = []\n",
    "for i in tqdm(range(len(df))):\n",
    "    if df.loc[i, \"ip.src\"] != '192.168.1.1' and df.loc[i, \"ip.src\"] != '140.112.20.183' and df.loc[i, \"ip.dst\"] == '192.168.1.248':\n",
    "        if df.loc[i, \"ip.src\"] not in rtt_list_dict:\n",
    "            rtt_list_dict[df.loc[i, \"ip.src\"]] = []\n",
    "        if not np.isnan(df.loc[i, \"tcp.analysis.ack_rtt\"]):\n",
    "            rtt_list_dict[df.loc[i, \"ip.src\"]].append((df.loc[i, \"frame.time\"], df.loc[i, \"tcp.analysis.ack_rtt\"]))\n",
    "            all_rtt_list.append((df.loc[i, \"frame.time\"], df.loc[i, \"tcp.analysis.ack_rtt\"]))\n",
    "\n",
    "for src_ip in rtt_list_dict:\n",
    "    rtt_list_dict[src_ip] = np.array(rtt_list_dict[src_ip])\n",
    "    rtt_list_dict[src_ip][:, 1] *= 1000\n",
    "    all_rtt_list = np.array(all_rtt_list)\n",
    "    all_rtt_list[:, 1] *= 1000\n",
    "    print(src_ip, len(rtt_list_dict[src_ip]))\n",
    "\n",
    "all_rtt_list = np.array(all_rtt_list)\n",
    "all_rtt_list[:, 1] *= 1000\n",
    "\n"
   ]
  },
  {
   "cell_type": "code",
   "execution_count": 68,
   "metadata": {},
   "outputs": [
    {
     "data": {
      "text/plain": [
       "<matplotlib.legend.Legend at 0x16d4e80fcd0>"
      ]
     },
     "execution_count": 68,
     "metadata": {},
     "output_type": "execute_result"
    },
    {
     "data": {
      "image/png": "[encoded data removed]",
      "text/plain": [
       "<Figure size 432x288 with 1 Axes>"
      ]
     },
     "metadata": {
      "needs_background": "light"
     },
     "output_type": "display_data"
    }
   ],
   "source": [
    "for src_ip in rtt_list_dict:\n",
    "    plt.plot(rtt_list_dict[src_ip][:, 0], rtt_list_dict[src_ip][:, 1], label = src_ip)\n",
    "plt.legend()"
   ]
  },
  {
   "cell_type": "code",
   "execution_count": 39,
   "metadata": {},
   "outputs": [
    {
     "data": {
      "text/plain": [
       "{'49.216.182.54': array([[Timestamp('2022-05-07 20:01:21.744358'), nan]], dtype=object),\n",
       " '101.10.98.243': array([[Timestamp('2022-05-07 20:01:21.592559'), nan]], dtype=object)}"
      ]
     },
     "execution_count": 39,
     "metadata": {},
     "output_type": "execute_result"
    }
   ],
   "source": []
  },
  {
   "cell_type": "code",
   "execution_count": 81,
   "metadata": {},
   "outputs": [
    {
     "name": "stderr",
     "output_type": "stream",
     "text": [
      "100%|██████████| 188870/188870 [00:04<00:00, 43517.19it/s]"
     ]
    },
    {
     "name": "stdout",
     "output_type": "stream",
     "text": [
      "49.216.182.54 12949\n",
      "101.10.98.243 25970\n"
     ]
    },
    {
     "name": "stderr",
     "output_type": "stream",
     "text": [
      "\n"
     ]
    }
   ],
   "source": [
    "byte_in_flight_dict = {}\n",
    "all_byte_in_flight_list = []\n",
    "for i in tqdm(range(len(df))):\n",
    "    if df.loc[i, \"ip.dst\"] != '192.168.1.1' and df.loc[i, \"ip.dst\"] != '140.112.20.183' and df.loc[i, \"ip.src\"] == '192.168.1.248':\n",
    "        if df.loc[i, \"ip.dst\"] not in byte_in_flight_dict:\n",
    "            byte_in_flight_dict[df.loc[i, \"ip.dst\"]] = []\n",
    "        if not np.isnan(df.loc[i, \"tcp.analysis.bytes_in_flight\"]):\n",
    "            byte_in_flight_dict[df.loc[i, \"ip.dst\"]].append((df.loc[i, \"frame.time\"], df.loc[i, \"tcp.analysis.bytes_in_flight\"]))\n",
    "            all_byte_in_flight_list.append()\n",
    "\n",
    "for dst_ip in byte_in_flight_dict:\n",
    "    byte_in_flight_dict[dst_ip] = np.array(byte_in_flight_dict[dst_ip])\n",
    "    print(dst_ip, len(byte_in_flight_dict[dst_ip]))\n",
    "\n"
   ]
  },
  {
   "cell_type": "code",
   "execution_count": 55,
   "metadata": {},
   "outputs": [
    {
     "data": {
      "text/plain": [
       "<matplotlib.legend.Legend at 0x16d4d1c7e50>"
      ]
     },
     "execution_count": 55,
     "metadata": {},
     "output_type": "execute_result"
    },
    {
     "data": {
      "image/png": "[encoded data removed]",
      "text/plain": [
       "<Figure size 432x288 with 1 Axes>"
      ]
     },
     "metadata": {
      "needs_background": "light"
     },
     "output_type": "display_data"
    }
   ],
   "source": [
    "for dst_ip in byte_in_flight_dict:\n",
    "    plt.plot(byte_in_flight_dict[dst_ip][:, 0], byte_in_flight_dict[dst_ip][:, 1], label = dst_ip)\n",
    "plt.legend()"
   ]
  },
  {
   "cell_type": "code",
   "execution_count": 78,
   "metadata": {},
   "outputs": [
    {
     "data": {
      "text/plain": [
       "<matplotlib.legend.Legend at 0x16d4fe59a00>"
      ]
     },
     "execution_count": 78,
     "metadata": {},
     "output_type": "execute_result"
    },
    {
     "data": {
      "image/png": "[encoded data removed]",
      "text/plain": [
       "<Figure size 432x288 with 1 Axes>"
      ]
     },
     "metadata": {
      "needs_background": "light"
     },
     "output_type": "display_data"
    }
   ],
   "source": [
    "for dst_ip in byte_in_flight_dict:\n",
    "    # plt.plot(byte_in_flight_dict[dst_ip][:, 0], byte_in_flight_dict[dst_ip][:, 1], label = dst_ip)\n",
    "    plt.title(\"PDF: byte in flight\")\n",
    "    hist, bin_edge = np.histogram(byte_in_flight_dict[dst_ip][:, 1], bins = 200)\n",
    "    plt.xlabel(\"microseconds\")\n",
    "    plt.ylabel(\"times\")\n",
    "    plt.plot(bin_edge[1:], hist, label=dst_ip)\n",
    "plt.legend()"
   ]
  },
  {
   "cell_type": "code",
   "execution_count": 82,
   "metadata": {},
   "outputs": [
    {
     "data": {
      "text/plain": [
       "<matplotlib.legend.Legend at 0x16d50ec6f40>"
      ]
     },
     "execution_count": 82,
     "metadata": {},
     "output_type": "execute_result"
    },
    {
     "data": {
      "image/png": "[encoded data removed]",
      "text/plain": [
       "<Figure size 432x288 with 1 Axes>"
      ]
     },
     "metadata": {
      "needs_background": "light"
     },
     "output_type": "display_data"
    }
   ],
   "source": [
    "plt.title(\"CDF: byte in flight\")\n",
    "for dst_ip in byte_in_flight_dict:\n",
    "    hist, bin_edge = np.histogram(byte_in_flight_dict[dst_ip][:, 1], bins = 200)\n",
    "    cdf = np.cumsum(hist/sum(hist))\n",
    "    plt.xlabel(\"bytes\")\n",
    "    plt.plot(bin_edge[1:],cdf,label = dst_ip)\n",
    "\n",
    "    # plt.plot(bin_edge[1:], hist, label=dst_ip)\n",
    "plt.legend()"
   ]
  },
  {
   "cell_type": "code",
   "execution_count": 74,
   "metadata": {},
   "outputs": [
    {
     "data": {
      "text/plain": [
       "<matplotlib.legend.Legend at 0x16d4eb73940>"
      ]
     },
     "execution_count": 74,
     "metadata": {},
     "output_type": "execute_result"
    },
    {
     "data": {
      "image/png": "[encoded data removed]",
      "text/plain": [
       "<Figure size 432x288 with 1 Axes>"
      ]
     },
     "metadata": {
      "needs_background": "light"
     },
     "output_type": "display_data"
    }
   ],
   "source": [
    "plt.title(\"CDF: round trip time\")\n",
    "\n",
    "for dst_ip in rtt_list_dict:\n",
    "    hist, bin_edge = np.histogram(rtt_list_dict[dst_ip][:, 1], bins = 200)\n",
    "    cdf = np.cumsum(hist/sum(hist))\n",
    "    plt.plot(bin_edge[1:],cdf,label = dst_ip)\n",
    "    \n",
    "    # plt.ylabel(\"times\")\n",
    "plt.xlabel(\"msec\")\n",
    "plt.xscale(\"log\")\n",
    "plt.xticks([10, 40, 160, 640, 1500], [10, 40, 160, 640, 1500])\n",
    "plt.legend()\n"
   ]
  },
  {
   "cell_type": "code",
   "execution_count": 3,
   "metadata": {},
   "outputs": [
    {
     "name": "stderr",
     "output_type": "stream",
     "text": [
      "c:\\Users\\User\\anaconda3\\lib\\site-packages\\dateutil\\parser\\_parser.py:1207: UnknownTimezoneWarning: tzname CST identified but not understood.  Pass `tzinfos` argument in order to correctly return a timezone-aware datetime.  In a future version, this will raise an exception.\n",
      "  warnings.warn(\"tzname {tzname} identified but not understood.  \"\n"
     ]
    }
   ],
   "source": [
    "filepath = r'C:\\Users\\User\\Desktop\\data\\client_video_streaming_pcap.csv'\n",
    "df = read_pcapcsv(filepath)"
   ]
  },
  {
   "cell_type": "code",
   "execution_count": 4,
   "metadata": {},
   "outputs": [
    {
     "data": {
      "text/html": [
       "<div>\n",
       "<style scoped>\n",
       "    .dataframe tbody tr th:only-of-type {\n",
       "        vertical-align: middle;\n",
       "    }\n",
       "\n",
       "    .dataframe tbody tr th {\n",
       "        vertical-align: top;\n",
       "    }\n",
       "\n",
       "    .dataframe thead th {\n",
       "        text-align: right;\n",
       "    }\n",
       "</style>\n",
       "<table border=\"1\" class=\"dataframe\">\n",
       "  <thead>\n",
       "    <tr style=\"text-align: right;\">\n",
       "      <th></th>\n",
       "      <th>frame.number</th>\n",
       "      <th>frame.time</th>\n",
       "      <th>ip.src</th>\n",
       "      <th>ip.dst</th>\n",
       "      <th>_ws.col.Protocol</th>\n",
       "      <th>frame.len</th>\n",
       "      <th>tcp.analysis.acks_frame</th>\n",
       "      <th>tcp.len</th>\n",
       "      <th>tcp.analysis.ack_rtt</th>\n",
       "      <th>tcp.srcport</th>\n",
       "      <th>tcp.dstport</th>\n",
       "      <th>tcp.analysis.bytes_in_flight</th>\n",
       "      <th>_ws.col.Info</th>\n",
       "    </tr>\n",
       "  </thead>\n",
       "  <tbody>\n",
       "    <tr>\n",
       "      <th>0</th>\n",
       "      <td>1</td>\n",
       "      <td>2022-05-07 19:57:36.547063</td>\n",
       "      <td>140.112.20.183</td>\n",
       "      <td>192.168.42.186</td>\n",
       "      <td>RTMP</td>\n",
       "      <td>106</td>\n",
       "      <td>NaN</td>\n",
       "      <td>18</td>\n",
       "      <td>NaN</td>\n",
       "      <td>1935</td>\n",
       "      <td>49100</td>\n",
       "      <td>18.0</td>\n",
       "      <td>Ping Request</td>\n",
       "    </tr>\n",
       "    <tr>\n",
       "      <th>1</th>\n",
       "      <td>2</td>\n",
       "      <td>2022-05-07 19:57:36.547267</td>\n",
       "      <td>192.168.42.186</td>\n",
       "      <td>140.112.20.183</td>\n",
       "      <td>MPTCP</td>\n",
       "      <td>89</td>\n",
       "      <td>1.0</td>\n",
       "      <td>1</td>\n",
       "      <td>0.000204</td>\n",
       "      <td>49100</td>\n",
       "      <td>1935</td>\n",
       "      <td>1.0</td>\n",
       "      <td>49100 → 1935 [PSH, ACK] Seq=1 Ack=19 Win=12302...</td>\n",
       "    </tr>\n",
       "    <tr>\n",
       "      <th>2</th>\n",
       "      <td>3</td>\n",
       "      <td>2022-05-07 19:57:36.573947</td>\n",
       "      <td>140.112.20.183</td>\n",
       "      <td>192.168.42.186</td>\n",
       "      <td>MPTCP</td>\n",
       "      <td>76</td>\n",
       "      <td>2.0</td>\n",
       "      <td>0</td>\n",
       "      <td>0.026680</td>\n",
       "      <td>1935</td>\n",
       "      <td>49100</td>\n",
       "      <td>NaN</td>\n",
       "      <td>1935 → 49100 [ACK] Seq=19 Ack=2 Win=1002 Len=0...</td>\n",
       "    </tr>\n",
       "    <tr>\n",
       "      <th>3</th>\n",
       "      <td>4</td>\n",
       "      <td>2022-05-07 19:57:36.574001</td>\n",
       "      <td>192.168.42.186</td>\n",
       "      <td>140.112.20.183</td>\n",
       "      <td>MPTCP</td>\n",
       "      <td>94</td>\n",
       "      <td>NaN</td>\n",
       "      <td>6</td>\n",
       "      <td>NaN</td>\n",
       "      <td>49100</td>\n",
       "      <td>1935</td>\n",
       "      <td>6.0</td>\n",
       "      <td>49100 → 1935 [PSH, ACK] Seq=2 Ack=19 Win=12302...</td>\n",
       "    </tr>\n",
       "    <tr>\n",
       "      <th>4</th>\n",
       "      <td>5</td>\n",
       "      <td>2022-05-07 19:57:36.592932</td>\n",
       "      <td>140.112.20.183</td>\n",
       "      <td>192.168.42.186</td>\n",
       "      <td>MPTCP</td>\n",
       "      <td>76</td>\n",
       "      <td>4.0</td>\n",
       "      <td>0</td>\n",
       "      <td>0.018931</td>\n",
       "      <td>1935</td>\n",
       "      <td>49100</td>\n",
       "      <td>NaN</td>\n",
       "      <td>1935 → 49100 [ACK] Seq=19 Ack=8 Win=1002 Len=0...</td>\n",
       "    </tr>\n",
       "    <tr>\n",
       "      <th>...</th>\n",
       "      <td>...</td>\n",
       "      <td>...</td>\n",
       "      <td>...</td>\n",
       "      <td>...</td>\n",
       "      <td>...</td>\n",
       "      <td>...</td>\n",
       "      <td>...</td>\n",
       "      <td>...</td>\n",
       "      <td>...</td>\n",
       "      <td>...</td>\n",
       "      <td>...</td>\n",
       "      <td>...</td>\n",
       "      <td>...</td>\n",
       "    </tr>\n",
       "    <tr>\n",
       "      <th>58815</th>\n",
       "      <td>58816</td>\n",
       "      <td>2022-05-07 20:01:21.736346</td>\n",
       "      <td>140.112.20.183</td>\n",
       "      <td>192.168.42.186</td>\n",
       "      <td>RTMP</td>\n",
       "      <td>1426</td>\n",
       "      <td>NaN</td>\n",
       "      <td>1338</td>\n",
       "      <td>NaN</td>\n",
       "      <td>1935</td>\n",
       "      <td>49112</td>\n",
       "      <td>1338.0</td>\n",
       "      <td>Unknown (0x0)|Unknown (0x6f)</td>\n",
       "    </tr>\n",
       "    <tr>\n",
       "      <th>58816</th>\n",
       "      <td>58817</td>\n",
       "      <td>2022-05-07 20:01:21.757463</td>\n",
       "      <td>140.112.20.183</td>\n",
       "      <td>192.168.42.186</td>\n",
       "      <td>RTMP</td>\n",
       "      <td>637</td>\n",
       "      <td>NaN</td>\n",
       "      <td>549</td>\n",
       "      <td>NaN</td>\n",
       "      <td>1935</td>\n",
       "      <td>49112</td>\n",
       "      <td>1887.0</td>\n",
       "      <td>Unknown (0x0)</td>\n",
       "    </tr>\n",
       "    <tr>\n",
       "      <th>58817</th>\n",
       "      <td>58818</td>\n",
       "      <td>2022-05-07 20:01:21.757497</td>\n",
       "      <td>192.168.42.186</td>\n",
       "      <td>140.112.20.183</td>\n",
       "      <td>MPTCP</td>\n",
       "      <td>76</td>\n",
       "      <td>58817.0</td>\n",
       "      <td>0</td>\n",
       "      <td>0.000034</td>\n",
       "      <td>49112</td>\n",
       "      <td>1935</td>\n",
       "      <td>NaN</td>\n",
       "      <td>49112 → 1935 [ACK] Seq=3447 Ack=16481954 Win=1...</td>\n",
       "    </tr>\n",
       "    <tr>\n",
       "      <th>58818</th>\n",
       "      <td>58819</td>\n",
       "      <td>2022-05-07 20:01:21.776504</td>\n",
       "      <td>140.112.20.183</td>\n",
       "      <td>192.168.42.186</td>\n",
       "      <td>RTMP</td>\n",
       "      <td>599</td>\n",
       "      <td>NaN</td>\n",
       "      <td>511</td>\n",
       "      <td>NaN</td>\n",
       "      <td>1935</td>\n",
       "      <td>49112</td>\n",
       "      <td>511.0</td>\n",
       "      <td>Video Data</td>\n",
       "    </tr>\n",
       "    <tr>\n",
       "      <th>58819</th>\n",
       "      <td>58820</td>\n",
       "      <td>2022-05-07 20:01:21.819531</td>\n",
       "      <td>192.168.42.186</td>\n",
       "      <td>140.112.20.183</td>\n",
       "      <td>MPTCP</td>\n",
       "      <td>76</td>\n",
       "      <td>58819.0</td>\n",
       "      <td>0</td>\n",
       "      <td>0.043027</td>\n",
       "      <td>49112</td>\n",
       "      <td>1935</td>\n",
       "      <td>NaN</td>\n",
       "      <td>49112 → 1935 [ACK] Seq=3447 Ack=16482465 Win=1...</td>\n",
       "    </tr>\n",
       "  </tbody>\n",
       "</table>\n",
       "<p>58820 rows × 13 columns</p>\n",
       "</div>"
      ],
      "text/plain": [
       "       frame.number                 frame.time          ip.src  \\\n",
       "0                 1 2022-05-07 19:57:36.547063  140.112.20.183   \n",
       "1                 2 2022-05-07 19:57:36.547267  192.168.42.186   \n",
       "2                 3 2022-05-07 19:57:36.573947  140.112.20.183   \n",
       "3                 4 2022-05-07 19:57:36.574001  192.168.42.186   \n",
       "4                 5 2022-05-07 19:57:36.592932  140.112.20.183   \n",
       "...             ...                        ...             ...   \n",
       "58815         58816 2022-05-07 20:01:21.736346  140.112.20.183   \n",
       "58816         58817 2022-05-07 20:01:21.757463  140.112.20.183   \n",
       "58817         58818 2022-05-07 20:01:21.757497  192.168.42.186   \n",
       "58818         58819 2022-05-07 20:01:21.776504  140.112.20.183   \n",
       "58819         58820 2022-05-07 20:01:21.819531  192.168.42.186   \n",
       "\n",
       "               ip.dst _ws.col.Protocol  frame.len  tcp.analysis.acks_frame  \\\n",
       "0      192.168.42.186             RTMP        106                      NaN   \n",
       "1      140.112.20.183            MPTCP         89                      1.0   \n",
       "2      192.168.42.186            MPTCP         76                      2.0   \n",
       "3      140.112.20.183            MPTCP         94                      NaN   \n",
       "4      192.168.42.186            MPTCP         76                      4.0   \n",
       "...               ...              ...        ...                      ...   \n",
       "58815  192.168.42.186             RTMP       1426                      NaN   \n",
       "58816  192.168.42.186             RTMP        637                      NaN   \n",
       "58817  140.112.20.183            MPTCP         76                  58817.0   \n",
       "58818  192.168.42.186             RTMP        599                      NaN   \n",
       "58819  140.112.20.183            MPTCP         76                  58819.0   \n",
       "\n",
       "       tcp.len  tcp.analysis.ack_rtt  tcp.srcport  tcp.dstport  \\\n",
       "0           18                   NaN         1935        49100   \n",
       "1            1              0.000204        49100         1935   \n",
       "2            0              0.026680         1935        49100   \n",
       "3            6                   NaN        49100         1935   \n",
       "4            0              0.018931         1935        49100   \n",
       "...        ...                   ...          ...          ...   \n",
       "58815     1338                   NaN         1935        49112   \n",
       "58816      549                   NaN         1935        49112   \n",
       "58817        0              0.000034        49112         1935   \n",
       "58818      511                   NaN         1935        49112   \n",
       "58819        0              0.043027        49112         1935   \n",
       "\n",
       "       tcp.analysis.bytes_in_flight  \\\n",
       "0                              18.0   \n",
       "1                               1.0   \n",
       "2                               NaN   \n",
       "3                               6.0   \n",
       "4                               NaN   \n",
       "...                             ...   \n",
       "58815                        1338.0   \n",
       "58816                        1887.0   \n",
       "58817                           NaN   \n",
       "58818                         511.0   \n",
       "58819                           NaN   \n",
       "\n",
       "                                            _ws.col.Info  \n",
       "0                                           Ping Request  \n",
       "1      49100 → 1935 [PSH, ACK] Seq=1 Ack=19 Win=12302...  \n",
       "2      1935 → 49100 [ACK] Seq=19 Ack=2 Win=1002 Len=0...  \n",
       "3      49100 → 1935 [PSH, ACK] Seq=2 Ack=19 Win=12302...  \n",
       "4      1935 → 49100 [ACK] Seq=19 Ack=8 Win=1002 Len=0...  \n",
       "...                                                  ...  \n",
       "58815                       Unknown (0x0)|Unknown (0x6f)  \n",
       "58816                                      Unknown (0x0)  \n",
       "58817  49112 → 1935 [ACK] Seq=3447 Ack=16481954 Win=1...  \n",
       "58818                                         Video Data  \n",
       "58819  49112 → 1935 [ACK] Seq=3447 Ack=16482465 Win=1...  \n",
       "\n",
       "[58820 rows x 13 columns]"
      ]
     },
     "execution_count": 4,
     "metadata": {},
     "output_type": "execute_result"
    }
   ],
   "source": [
    "df"
   ]
  },
  {
   "cell_type": "code",
   "execution_count": 60,
   "metadata": {},
   "outputs": [],
   "source": [
    "def goodput(rxdf):\n",
    "    all_goodput_list = []\n",
    "    goodput_dict = {}\n",
    "    begin_time = rxdf.loc[0, \"frame.time\"]\n",
    "    onesecond = dt.timedelta(seconds = 0.5)\n",
    "    count = 0\n",
    "    for i in tqdm(range(len(rxdf))):\n",
    "        if not np.isnan(rxdf.loc[i, \"tcp.len\"]) and rxdf.loc[i, \"ip.src\"] == '140.112.20.183':\n",
    "            count += rxdf.loc[i, \"frame.len\"]\n",
    "        if rxdf.loc[i, \"frame.time\"] - begin_time >= onesecond and rxdf.loc[i, \"ip.src\"] == '140.112.20.183':\n",
    "            # all_goodput_list.append((begin_time, count))\n",
    "            if rxdf.loc[i, \"ip.dst\"] not in goodput_dict:\n",
    "                goodput_dict[rxdf.loc[i, \"ip.dst\"]] = []\n",
    "            goodput_dict[rxdf.loc[i, \"ip.dst\"]].append(((rxdf.loc[i, \"frame.time\"] - rxdf.loc[0, \"frame.time\"]).total_seconds(), count))\n",
    "            all_goodput_list.append(((rxdf.loc[i, \"frame.time\"] - rxdf.loc[0, \"frame.time\"]).total_seconds(), count))\n",
    "            begin_time = rxdf.loc[i, \"frame.time\"]\n",
    "            count = 0\n",
    "    for dst_ip in goodput_dict:\n",
    "        goodput_dict[dst_ip] = np.array((goodput_dict[dst_ip]))\n",
    "    return np.array(all_goodput_list), goodput_dict"
   ]
  },
  {
   "cell_type": "code",
   "execution_count": 61,
   "metadata": {},
   "outputs": [
    {
     "name": "stderr",
     "output_type": "stream",
     "text": [
      "100%|██████████| 58820/58820 [00:02<00:00, 23447.11it/s]\n"
     ]
    }
   ],
   "source": [
    "allgoodput_list, goodput_dict = goodput(df)"
   ]
  },
  {
   "cell_type": "code",
   "execution_count": 62,
   "metadata": {},
   "outputs": [
    {
     "data": {
      "text/plain": [
       "[<matplotlib.lines.Line2D at 0x12770bf8550>]"
      ]
     },
     "execution_count": 62,
     "metadata": {},
     "output_type": "execute_result"
    },
    {
     "data": {
      "image/png": "[encoded data removed]",
      "text/plain": [
       "<Figure size 432x288 with 1 Axes>"
      ]
     },
     "metadata": {
      "needs_background": "light"
     },
     "output_type": "display_data"
    }
   ],
   "source": [
    "plt.plot(allgoodput_list[:, 0]-115, allgoodput_list[:, 1])"
   ]
  },
  {
   "cell_type": "code",
   "execution_count": 63,
   "metadata": {},
   "outputs": [
    {
     "data": {
      "text/plain": [
       "<matplotlib.legend.Legend at 0x12770c17040>"
      ]
     },
     "execution_count": 63,
     "metadata": {},
     "output_type": "execute_result"
    },
    {
     "data": {
      "image/png": "[encoded data removed]",
      "text/plain": [
       "<Figure size 432x288 with 1 Axes>"
      ]
     },
     "metadata": {
      "needs_background": "light"
     },
     "output_type": "display_data"
    }
   ],
   "source": [
    "for dst_ip in goodput_dict:\n",
    "    plt.title(\"goodput\")\n",
    "    plt.plot(goodput_dict[dst_ip][:, 0], goodput_dict[dst_ip][:, 1], label = dst_ip)\n",
    "plt.legend()\n"
   ]
  },
  {
   "cell_type": "code",
   "execution_count": null,
   "metadata": {},
   "outputs": [],
   "source": []
  },
  {
   "cell_type": "code",
   "execution_count": null,
   "metadata": {},
   "outputs": [],
   "source": []
  },
  {
   "cell_type": "code",
   "execution_count": null,
   "metadata": {},
   "outputs": [],
   "source": []
  }
 ],
 "metadata": {
  "interpreter": {
   "hash": "f08154012ddadd8e950e6e9e035c7a7b32c136e7647e9b7c77e02eb723a8bedb"
  },
  "kernelspec": {
   "display_name": "Python 3.9.7 ('base')",
   "language": "python",
   "name": "python3"
  },
  "language_info": {
   "codemirror_mode": {
    "name": "ipython",
    "version": 3
   },
   "file_extension": ".py",
   "mimetype": "text/x-python",
   "name": "python",
   "nbconvert_exporter": "python",
   "pygments_lexer": "ipython3",
   "version": "3.9.7"
  },
  "orig_nbformat": 4
 },
 "nbformat": 4,
 "nbformat_minor": 2
}
